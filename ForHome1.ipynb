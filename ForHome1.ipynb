{
  "nbformat": 4,
  "nbformat_minor": 0,
  "metadata": {
    "colab": {
      "name": "ForHome1.ipynb",
      "provenance": [],
      "authorship_tag": "ABX9TyOGTUNx5s+tASjgaBlVU/fN",
      "include_colab_link": true
    },
    "kernelspec": {
      "name": "python3",
      "display_name": "Python 3"
    },
    "language_info": {
      "name": "python"
    }
  },
  "cells": [
    {
      "cell_type": "markdown",
      "metadata": {
        "id": "view-in-github",
        "colab_type": "text"
      },
      "source": [
        "<a href=\"https://colab.research.google.com/github/RandyGirl/ML-22/blob/main/ForHome1.ipynb\" target=\"_parent\"><img src=\"https://colab.research.google.com/assets/colab-badge.svg\" alt=\"Open In Colab\"/></a>"
      ]
    },
    {
      "cell_type": "markdown",
      "source": [
        "#For Home"
      ],
      "metadata": {
        "id": "cOtCbn2gu1Au"
      }
    },
    {
      "cell_type": "markdown",
      "source": [
        "#Task 1"
      ],
      "metadata": {
        "id": "4io5FYdRvPfz"
      }
    },
    {
      "cell_type": "code",
      "source": [
        "def round_to_two_places(num):\n",
        "    \"\"\"Return the given number rounded to two decimal places. \n",
        "    \n",
        "    >>> round_to_two_places(3.14159)\n",
        "    3.14\n",
        "    \"\"\"\n",
        "    return round(num, 2)\n",
        "round_to_two_places(3.14159)"
      ],
      "metadata": {
        "colab": {
          "base_uri": "https://localhost:8080/"
        },
        "id": "cmEXv4HWvVME",
        "outputId": "5327211b-4f3f-446d-ed78-98ee20efd2b5"
      },
      "execution_count": null,
      "outputs": [
        {
          "output_type": "execute_result",
          "data": {
            "text/plain": [
              "3.14"
            ]
          },
          "metadata": {},
          "execution_count": 1
        }
      ]
    },
    {
      "cell_type": "markdown",
      "source": [
        "#Task 2"
      ],
      "metadata": {
        "id": "rbyxLZg5wCof"
      }
    },
    {
      "cell_type": "code",
      "source": [
        "# ruound_to_two_places(9.9999) --- wrong spelling\n",
        "round_to_two_places(9.9999)"
      ],
      "metadata": {
        "colab": {
          "base_uri": "https://localhost:8080/"
        },
        "id": "bklimqMpwFfG",
        "outputId": "ee464206-0d12-4953-93e3-321f037c250a"
      },
      "execution_count": null,
      "outputs": [
        {
          "output_type": "execute_result",
          "data": {
            "text/plain": [
              "10.0"
            ]
          },
          "metadata": {},
          "execution_count": 2
        }
      ]
    },
    {
      "cell_type": "code",
      "source": [
        "# x = -10\n",
        "# y = 5\n",
        "# smallest_abs = min(abs(x, y))\n",
        "# smallest_abs # Should store the variable with the smaller absolute value, i.e. 5.\n",
        "\n",
        "# abs() uses only one argument\n",
        "\n",
        "x = abs(-10)\n",
        "y = abs(5)\n",
        "smallest_abs = min(x, y)\n",
        "smallest_abs"
      ],
      "metadata": {
        "colab": {
          "base_uri": "https://localhost:8080/"
        },
        "id": "RlbAj9xxw7gD",
        "outputId": "a5e3408f-a76a-4354-9ca8-3890534bf040"
      },
      "execution_count": null,
      "outputs": [
        {
          "output_type": "execute_result",
          "data": {
            "text/plain": [
              "5"
            ]
          },
          "metadata": {},
          "execution_count": 5
        }
      ]
    },
    {
      "cell_type": "code",
      "source": [
        "# def f(x):\n",
        "#     y = abs(x)\n",
        "# return y\n",
        "\n",
        "# return should be written on one line with y \n",
        "def f(x):\n",
        "     y = abs(x)\n",
        "     return y\n",
        "f(-3)"
      ],
      "metadata": {
        "colab": {
          "base_uri": "https://localhost:8080/"
        },
        "id": "MRQV6I9YyZTL",
        "outputId": "78793fcf-bdbb-4913-caaa-30edce1511ba"
      },
      "execution_count": null,
      "outputs": [
        {
          "output_type": "execute_result",
          "data": {
            "text/plain": [
              "3"
            ]
          },
          "metadata": {},
          "execution_count": 6
        }
      ]
    },
    {
      "cell_type": "markdown",
      "source": [
        "#Task 3"
      ],
      "metadata": {
        "id": "POaXODNHzDqM"
      }
    },
    {
      "cell_type": "code",
      "source": [
        "def is_neg_if(num):\n",
        "  if num < 0:\n",
        "    return -1\n",
        "  elif num == 0:\n",
        "    return 0\n",
        "  else:\n",
        "    return 1\n",
        "\n",
        "def is_neg_ternary(num):\n",
        "  return 0 if num == 0 else -1 if num < 0 else 1\n",
        "\n",
        "print(is_neg_if(-3)) \n",
        "print(is_neg_ternary(-3))"
      ],
      "metadata": {
        "colab": {
          "base_uri": "https://localhost:8080/"
        },
        "id": "ceHHMCALzF2D",
        "outputId": "a681c2c3-8c79-4d40-91c6-b926c397f47a"
      },
      "execution_count": null,
      "outputs": [
        {
          "output_type": "stream",
          "name": "stdout",
          "text": [
            "-1\n",
            "-1\n"
          ]
        }
      ]
    },
    {
      "cell_type": "markdown",
      "source": [
        "#Task 4"
      ],
      "metadata": {
        "id": "mm7Fcv7h092g"
      }
    },
    {
      "cell_type": "code",
      "source": [
        "def to_smash(total_candies):\n",
        "    \"\"\"Return the number of leftover candies that must be smashed after distributing\n",
        "    the given number of candies evenly between 3 friends.\n",
        "    \n",
        "    >>> to_smash(91)\n",
        "    Splitting 91 candies\n",
        "    1\n",
        "\n",
        "    >>> to_smash(1)\n",
        "    Splitting 1 candy\n",
        "    0\n",
        "    \"\"\"\n",
        "    if total_candies == 1:\n",
        "      print(f\"Splitting {total_candies} candy\")\n",
        "    else:\n",
        "      print(f\"Splitting {total_candies} candies\")\n",
        "\n",
        "    return total_candies % 3\n",
        "\n",
        "print(to_smash(91))\n",
        "print(to_smash(1))"
      ],
      "metadata": {
        "colab": {
          "base_uri": "https://localhost:8080/"
        },
        "id": "Fpb2oZUD1Avy",
        "outputId": "cce14047-5bdb-46f6-e46f-7a4a9aa48868"
      },
      "execution_count": null,
      "outputs": [
        {
          "output_type": "stream",
          "name": "stdout",
          "text": [
            "Splitting 91 candies\n",
            "1\n",
            "Splitting 1 candy\n",
            "1\n"
          ]
        }
      ]
    },
    {
      "cell_type": "markdown",
      "source": [
        "#Task 5"
      ],
      "metadata": {
        "id": "iHdk5MFx333A"
      }
    },
    {
      "cell_type": "code",
      "source": [
        "def onionless(ketchup, mustard, onion):\n",
        "    \"\"\"Return whether the customer doesn't want onions.\n",
        "    \"\"\"\n",
        "\n",
        "    return not onion\n",
        "\n",
        "def wants_all_toppings(ketchup, mustard, onion):\n",
        "    \"\"\"Return whether the customer wants \"the works\" (all 3 toppings)\n",
        "    \"\"\"\n",
        "\n",
        "    return ketchup and mustard and onion\n",
        "\n",
        "def wants_plain_hotdog(ketchup, mustard, onion):\n",
        "  \"\"\"Return whether the customer wants a plain hot dog with no toppings.\n",
        "  \"\"\"\n",
        "\n",
        "  return not(ketchup or mustard or onion)\n",
        "\n",
        "def exactly_one_sauce(ketchup, mustard, onion):\n",
        "    \"\"\"Return whether the customer wants either ketchup or mustard, but not both.\n",
        "    (You may be familiar with this operation under the name \"exclusive or\")\n",
        "    \"\"\"\n",
        "    return ketchup ^ mustard\n",
        "\n",
        "\n",
        "print(onionless(True, True, False))\n",
        "print(wants_all_toppings(False, True, True))\n",
        "print(wants_all_toppings(True, True, True))\n",
        "print(wants_plain_hotdog(False, True, True))\n",
        "print(wants_plain_hotdog(False, False, False))\n",
        "print(exactly_one_sauce(True, False, True))\n",
        "print(exactly_one_sauce(True, True, True))"
      ],
      "metadata": {
        "colab": {
          "base_uri": "https://localhost:8080/"
        },
        "id": "4iHvkHLH37Pb",
        "outputId": "1dd2a80d-99e6-4049-f6d0-98766f4e76c7"
      },
      "execution_count": null,
      "outputs": [
        {
          "output_type": "stream",
          "name": "stdout",
          "text": [
            "True\n",
            "False\n",
            "True\n",
            "False\n",
            "True\n",
            "True\n",
            "False\n"
          ]
        }
      ]
    },
    {
      "cell_type": "markdown",
      "source": [
        "#Task 6"
      ],
      "metadata": {
        "id": "ycvus46jCq4_"
      }
    },
    {
      "cell_type": "code",
      "source": [
        "def exactly_one_topping(ketchup, mustard, onion):\n",
        "  \"\"\"Return whether the customer wants exactly one of the three available toppings\n",
        "  on their hot dog.\n",
        "  \"\"\"\n",
        "  return int(ketchup) + int(mustard) + int(onion) == 1\n",
        "\n",
        "exactly_one_sauce(True, False, False)"
      ],
      "metadata": {
        "colab": {
          "base_uri": "https://localhost:8080/"
        },
        "id": "uUlLfPkBCtlW",
        "outputId": "713d58c4-dcd8-4864-bc22-d190060c90ca"
      },
      "execution_count": null,
      "outputs": [
        {
          "output_type": "execute_result",
          "data": {
            "text/plain": [
              "True"
            ]
          },
          "metadata": {},
          "execution_count": 17
        }
      ]
    },
    {
      "cell_type": "markdown",
      "source": [
        "#task 7"
      ],
      "metadata": {
        "id": "e8hvpvVLDe4U"
      }
    },
    {
      "cell_type": "code",
      "source": [
        "def select_second(l):\n",
        "    \"\"\"Return the second element of the given list. If the list has no second\n",
        "    element, return None.\n",
        "    \"\"\"\n",
        "    if len(l) > 1:\n",
        "      return l[1]\n",
        "    else:\n",
        "      return 'None'\n",
        "\n",
        "\n",
        "list1 = [1, 3, 45]\n",
        "list2 = [3]\n",
        "\n",
        "print(select_second(list1))\n",
        "print(select_second(list2))"
      ],
      "metadata": {
        "colab": {
          "base_uri": "https://localhost:8080/"
        },
        "id": "IBbpMiXrDghB",
        "outputId": "628be5f8-5c67-4869-b59e-ca3b8ae99f71"
      },
      "execution_count": null,
      "outputs": [
        {
          "output_type": "stream",
          "name": "stdout",
          "text": [
            "3\n",
            "None\n"
          ]
        }
      ]
    },
    {
      "cell_type": "markdown",
      "source": [
        "#Task 8"
      ],
      "metadata": {
        "id": "ACD6bDnCnyZx"
      }
    },
    {
      "cell_type": "code",
      "source": [
        "def losing_team_captain(teams):\n",
        "    \"\"\"Given a list of teams, where each team is a list of names, return the 2nd player (captain)\n",
        "    from the last listed team\n",
        "    \"\"\"\n",
        "    print(teams[-1][1])\n",
        "\n",
        "teams = [['Coach1', 'Captain1', 'Player1'], ['Coach2', 'Captain2', 'Player2']]\n",
        "losing_team_captain(teams)"
      ],
      "metadata": {
        "colab": {
          "base_uri": "https://localhost:8080/"
        },
        "id": "FHdWw87ln1vQ",
        "outputId": "a622abbb-a50d-42b9-df34-557844b978c7"
      },
      "execution_count": null,
      "outputs": [
        {
          "output_type": "stream",
          "name": "stdout",
          "text": [
            "Captain2\n"
          ]
        }
      ]
    },
    {
      "cell_type": "markdown",
      "source": [
        "#Task 9"
      ],
      "metadata": {
        "id": "6Nw0F6G7qneC"
      }
    },
    {
      "cell_type": "code",
      "source": [
        "def purple_shell(racers):\n",
        "    \"\"\"Given a list of racers, set the first place racer (at the front of the list) to last\n",
        "    place and vice versa.\n",
        "    \n",
        "    >>> r = [\"Mario\", \"Bowser\", \"Luigi\"]\n",
        "    >>> purple_shell(r)\n",
        "    >>> r\n",
        "    [\"Luigi\", \"Bowser\", \"Mario\"]\n",
        "    \"\"\"\n",
        "    racers[0], racers[-1] = racers[-1], racers[0]\n",
        "\n",
        "r = [\"Mario\", \"Bowser\", \"Luigi\"]\n",
        "purple_shell(r)\n",
        "r"
      ],
      "metadata": {
        "colab": {
          "base_uri": "https://localhost:8080/"
        },
        "id": "q_sTbzqiqpNk",
        "outputId": "fb6af963-bd04-4a23-bdb7-6ac927f963cb"
      },
      "execution_count": null,
      "outputs": [
        {
          "output_type": "execute_result",
          "data": {
            "text/plain": [
              "['Luigi', 'Bowser', 'Mario']"
            ]
          },
          "metadata": {},
          "execution_count": 2
        }
      ]
    },
    {
      "cell_type": "markdown",
      "source": [
        "#Task 10"
      ],
      "metadata": {
        "id": "cfnsbgzNt4-K"
      }
    },
    {
      "cell_type": "code",
      "source": [
        "arrivals = ['Adela', 'Fleda', 'Owen', 'May', 'Mona', 'Gilbert', 'Ford']\n",
        "\n",
        "def is_fashionably_late(arrivals, name):\n",
        "    \"\"\"Given an ordered list of arrivals to the party and a name, return whether the guest with that\n",
        "    name was fashionably late.\n",
        "    \"\"\"\n",
        "    return (name != arrivals[-1]) and (round(len(arrivals)/2) < arrivals.index(name) + 1)\n",
        "\n",
        "print(is_fashionably_late(arrivals, 'Mona'))\n",
        "print(is_fashionably_late(arrivals, 'May'))\n",
        "print(is_fashionably_late(arrivals, 'Fleda'))\n",
        "print(is_fashionably_late(arrivals, 'Ford'))"
      ],
      "metadata": {
        "colab": {
          "base_uri": "https://localhost:8080/"
        },
        "id": "UJoo_iqJt7nJ",
        "outputId": "08ea88ae-a958-4f35-e7e1-29d9341a5117"
      },
      "execution_count": null,
      "outputs": [
        {
          "output_type": "stream",
          "name": "stdout",
          "text": [
            "4\n",
            "True\n",
            "False\n",
            "False\n",
            "False\n"
          ]
        }
      ]
    },
    {
      "cell_type": "markdown",
      "source": [
        "#Task 11"
      ],
      "metadata": {
        "id": "6vGx987O21gT"
      }
    },
    {
      "cell_type": "code",
      "source": [
        "def has_lucky_number(nums):\n",
        "    \"\"\"Return whether the given list of numbers is lucky. A lucky list contains\n",
        "    at least one number divisible by 7.\n",
        "    \"\"\"\n",
        "\n",
        "    \"\"\" Like this checks only if the first number is divisible by 7\n",
        "    for num in nums:\n",
        "        if num % 7 == 0:\n",
        "            return True\n",
        "        else:\n",
        "            return False\n",
        "    \"\"\"\n",
        "\n",
        "    answer = False\n",
        "    for num in nums:\n",
        "      if num % 7 == 0:\n",
        "        answer = True\n",
        "      \n",
        "    return answer\n",
        "\n",
        "nums = [3, 49, 568]\n",
        "has_lucky_number(nums)"
      ],
      "metadata": {
        "colab": {
          "base_uri": "https://localhost:8080/"
        },
        "id": "RX7KBjgo23Ow",
        "outputId": "88f7d93f-afc2-4db0-dcc5-d0c3028e1415"
      },
      "execution_count": null,
      "outputs": [
        {
          "output_type": "execute_result",
          "data": {
            "text/plain": [
              "True"
            ]
          },
          "metadata": {},
          "execution_count": 17
        }
      ]
    },
    {
      "cell_type": "markdown",
      "source": [
        "#Task 12"
      ],
      "metadata": {
        "id": "NIAn0ntM3zwQ"
      }
    },
    {
      "cell_type": "code",
      "source": [
        "def elementwise_greater_than(l, thresh):\n",
        "  \"\"\"Return a list with the same length as l, where the value at index i is \n",
        "  True if l[i] is greater than thresh, and False otherwise.\n",
        "  \n",
        "  >>> elementwise_greater_than([1, 2, 3, 4], 2)\n",
        "  [False, False, True, True]\n",
        "  \"\"\"\n",
        "  r = []\n",
        "  for num in l:\n",
        "    if num > thresh:\n",
        "      r.append(True)\n",
        "    else:\n",
        "      r.append(False)\n",
        "\n",
        "  return r\n",
        "\n",
        "elementwise_greater_than([1, 2, 3, 4], 2)"
      ],
      "metadata": {
        "colab": {
          "base_uri": "https://localhost:8080/"
        },
        "id": "G7Fhp8vK32JK",
        "outputId": "6a4c31ae-a1f5-49f0-d63b-e70bb1af9fba"
      },
      "execution_count": null,
      "outputs": [
        {
          "output_type": "execute_result",
          "data": {
            "text/plain": [
              "[False, False, True, True]"
            ]
          },
          "metadata": {},
          "execution_count": 19
        }
      ]
    },
    {
      "cell_type": "markdown",
      "source": [
        "#Task 13"
      ],
      "metadata": {
        "id": "iE55pYrYN4Ra"
      }
    },
    {
      "cell_type": "code",
      "source": [
        "def menu_is_boring(meals):\n",
        "  \"\"\"Given a list of meals served over some period of time, return True if the\n",
        "  same meal has ever been served two days in a row, and False otherwise.\n",
        "  \"\"\"\n",
        "  for i in range(len(meals) - 1):\n",
        "    if meals[i] == meals[i + 1]:\n",
        "      return True\n",
        "  \n",
        "  return False\n",
        "\n",
        "meals = ['Eggs', 'Pizza', 'Chicken', 'Chicken']\n",
        "meals2 = ['Eggs', 'Pizza', 'Chicken']\n",
        "\n",
        "print(menu_is_boring(meals))\n",
        "print(menu_is_boring(meals2))"
      ],
      "metadata": {
        "colab": {
          "base_uri": "https://localhost:8080/"
        },
        "id": "1pjqmDt0N6Vs",
        "outputId": "901f74ae-d8fc-4b9e-84dd-ee0177f36483"
      },
      "execution_count": null,
      "outputs": [
        {
          "output_type": "stream",
          "name": "stdout",
          "text": [
            "True\n",
            "False\n"
          ]
        }
      ]
    },
    {
      "cell_type": "markdown",
      "source": [
        "#Task 14"
      ],
      "metadata": {
        "id": "P_oCSj5HQJ_-"
      }
    },
    {
      "cell_type": "code",
      "source": [
        "def is_valid_zip(zip_code):\n",
        "  \"\"\"\n",
        "  Returns whether the input string is a valid (5 digit) zip code\n",
        "\n",
        "  Examples:\n",
        "  >>> is_valid_zip('1234')\n",
        "  False\n",
        "\n",
        "  >>> is_valid_zip('12345')\n",
        "  True\n",
        "  \"\"\"\n",
        "  return zip_code.isdigit() and len(zip_code) == 5\n",
        "#help(str)\n",
        "\n",
        "print(is_valid_zip('1234'))\n",
        "print(is_valid_zip('12345'))"
      ],
      "metadata": {
        "colab": {
          "base_uri": "https://localhost:8080/"
        },
        "id": "67Yay_OnQLsr",
        "outputId": "4893e8c2-e913-41d0-a2b7-13ce8a7bf6e1"
      },
      "execution_count": null,
      "outputs": [
        {
          "output_type": "stream",
          "name": "stdout",
          "text": [
            "False\n",
            "True\n"
          ]
        }
      ]
    },
    {
      "cell_type": "markdown",
      "source": [
        "#Task 15"
      ],
      "metadata": {
        "id": "srWln6I4SQ2F"
      }
    },
    {
      "cell_type": "code",
      "source": [
        "def word_search(doc_list, keyword):\n",
        "  \"\"\"\n",
        "  Takes a list of documents (each document is a string) and a keyword. \n",
        "  Returns list of the index values into the original list for all documents \n",
        "  containing the keyword.\n",
        "\n",
        "  Example:\n",
        "  >>> doc_list = [\"The Learn Python Challenge Casino.\", \"They bought a car\", \"Casinoville\"]\n",
        "  >>> word_search(doc_list, 'casino')\n",
        "  [0]\n",
        "  \"\"\"\n",
        "  result = []\n",
        "  for i in range(len(doc_list)):\n",
        "    if keyword in doc_list[i].lower().replace('.', ' ').replace(',', ' ').split():\n",
        "      result.append(i)\n",
        "\n",
        "  return result\n",
        "\n",
        "doc_list = [\"The Learn Python Challenge Casino.\", \"They bought a car\", \"Casinoville\"]\n",
        "word_search(doc_list, 'casino')\n"
      ],
      "metadata": {
        "colab": {
          "base_uri": "https://localhost:8080/"
        },
        "id": "-xlbHropSTik",
        "outputId": "122f1f26-b90b-4b23-c83b-aefe31ebb510"
      },
      "execution_count": null,
      "outputs": [
        {
          "output_type": "execute_result",
          "data": {
            "text/plain": [
              "[0]"
            ]
          },
          "metadata": {},
          "execution_count": 32
        }
      ]
    },
    {
      "cell_type": "markdown",
      "source": [
        "#Task 16"
      ],
      "metadata": {
        "id": "MvXKktDlYCfa"
      }
    },
    {
      "cell_type": "code",
      "source": [
        "def multi_word_search(doc_list, keywords):\n",
        "  \"\"\"\n",
        "  Takes list of documents (each document is a string) and a list of keywords.  \n",
        "  Returns a dictionary where each key is a keyword, and the value is a list of indices\n",
        "  (from doc_list) of the documents containing that keyword\n",
        "\n",
        "  >>> doc_list = [\"The Learn Python Challenge Casino.\", \"They bought a car and a casino\", \"Casinoville\"]\n",
        "  >>> keywords = ['casino', 'they']\n",
        "  >>> multi_word_search(doc_list, keywords)\n",
        "  {'casino': [0, 1], 'they': [1]}\n",
        "  \"\"\"\n",
        "  result = {}\n",
        "  for word in keywords:\n",
        "    result[word] = word_search(doc_list, word)\n",
        "\n",
        "  return result\n",
        "\n",
        "doc_list = [\"The Learn Python Challenge Casino.\", \"They bought a car and a casino\", \"Casinoville\"]\n",
        "keywords = ['casino', 'they']\n",
        "multi_word_search(doc_list, keywords)"
      ],
      "metadata": {
        "colab": {
          "base_uri": "https://localhost:8080/"
        },
        "id": "z2wJHeA0YEYs",
        "outputId": "ebe8a978-33b2-4b73-d252-1c2b192361a3"
      },
      "execution_count": null,
      "outputs": [
        {
          "output_type": "execute_result",
          "data": {
            "text/plain": [
              "{'casino': [0, 1], 'they': [1]}"
            ]
          },
          "metadata": {},
          "execution_count": 33
        }
      ]
    },
    {
      "cell_type": "markdown",
      "source": [
        "#Task 17"
      ],
      "metadata": {
        "id": "XoLrYSmKZJXG"
      }
    },
    {
      "cell_type": "code",
      "source": [
        "def is_palindrome(string):\n",
        "  str = string.lower().replace('.', '').replace(',', '').replace(':', '').replace(';', '').replace(' ', '')\n",
        "\n",
        "  return str == str[:: -1]\n",
        "\n",
        "print(is_palindrome(\"level\"))\n",
        "print(is_palindrome(\"algorithm\"))\n",
        "print(is_palindrome(\"A man, a plan, a canal: Panama.\"))"
      ],
      "metadata": {
        "id": "pKSJ9pn5ZLIA",
        "colab": {
          "base_uri": "https://localhost:8080/"
        },
        "outputId": "ec992b6c-9195-4a58-c10b-a110fa3dbcd8"
      },
      "execution_count": null,
      "outputs": [
        {
          "output_type": "stream",
          "name": "stdout",
          "text": [
            "True\n",
            "False\n",
            "True\n"
          ]
        }
      ]
    },
    {
      "cell_type": "markdown",
      "source": [
        "#Task 18"
      ],
      "metadata": {
        "id": "gvPoZgeTSUof"
      }
    },
    {
      "cell_type": "code",
      "source": [
        "def generate_range(min, max, step):\n",
        "  result = []\n",
        "\n",
        "  for i in range(min, max + 1, step):\n",
        "    result.append(i)\n",
        "\n",
        "  return result\n",
        "\n",
        "print(generate_range(2, 10, 2))\n",
        "print(generate_range(1, 10, 3))"
      ],
      "metadata": {
        "colab": {
          "base_uri": "https://localhost:8080/"
        },
        "id": "1Vdquo_4SWgb",
        "outputId": "d9b11073-0dd6-410a-adc0-2b7b48f675d6"
      },
      "execution_count": null,
      "outputs": [
        {
          "output_type": "stream",
          "name": "stdout",
          "text": [
            "[2, 4, 6, 8, 10]\n",
            "[1, 4, 7, 10]\n"
          ]
        }
      ]
    },
    {
      "cell_type": "markdown",
      "source": [
        "#Task 19"
      ],
      "metadata": {
        "id": "F16fq0mcUl0B"
      }
    },
    {
      "cell_type": "code",
      "source": [
        "def is_original_position(str):\n",
        "  l = 0\n",
        "  r = 0\n",
        "  u = 0\n",
        "  d = 0\n",
        "\n",
        "  for i in range(len(str)):\n",
        "    if str[i] == 'L':\n",
        "      l = l + 1\n",
        "    elif str[i] == 'R':\n",
        "      r = r + 1\n",
        "    elif str[i] == 'U':\n",
        "      u = u + 1\n",
        "    elif str[i] == 'D':\n",
        "      d = d + 1\n",
        "\n",
        "  return l == r and u == d\n",
        "\n",
        "print(is_original_position(\"LR\"))\n",
        "print(is_original_position(\"URURD\"))\n",
        "print(is_original_position(\"RUULLDRD\"))"
      ],
      "metadata": {
        "colab": {
          "base_uri": "https://localhost:8080/"
        },
        "id": "b3cbtRJsUqHe",
        "outputId": "c970faa2-a66e-4790-c6d5-8b012d05fe98"
      },
      "execution_count": null,
      "outputs": [
        {
          "output_type": "stream",
          "name": "stdout",
          "text": [
            "True\n",
            "False\n",
            "True\n"
          ]
        }
      ]
    },
    {
      "cell_type": "markdown",
      "source": [
        "#Task 20"
      ],
      "metadata": {
        "id": "my94Nx6YinWr"
      }
    },
    {
      "cell_type": "code",
      "source": [
        "def max_profit(list):\n",
        "  max = 0\n",
        "  for i in range(len(list) - 1):\n",
        "    for j in range(i + 1, len(list)):\n",
        "      if max < list[j] - list[i]:\n",
        "        max = list[j] - list[i]\n",
        "\n",
        "  return max\n",
        "\n",
        "max_profit([9, 11, 8, 5, 7, 10])"
      ],
      "metadata": {
        "colab": {
          "base_uri": "https://localhost:8080/"
        },
        "id": "5wXkh5I5ipns",
        "outputId": "d161555b-0c8a-4921-8908-e211c769a043"
      },
      "execution_count": null,
      "outputs": [
        {
          "output_type": "execute_result",
          "data": {
            "text/plain": [
              "5"
            ]
          },
          "metadata": {},
          "execution_count": 10
        }
      ]
    },
    {
      "cell_type": "markdown",
      "source": [
        "#Task 21"
      ],
      "metadata": {
        "id": "tdobFlx3kgu-"
      }
    },
    {
      "cell_type": "code",
      "source": [
        "def rotations(n):\n",
        "  list = [n]\n",
        "  num = [int(x) for x in str(n)]\n",
        "  \n",
        "  for i in range(len(str(n))):\n",
        "    part1 = num[0:i]\n",
        "    part2 = num[i+1:]\n",
        "    new = part1 + part2\n",
        "    new.append(num[i])\n",
        "    list.append(int(''.join([str(j) for j in new])))\n",
        "    num = new\n",
        "\n",
        "  return max(list)\n",
        "\n",
        "rotations(56789)\n"
      ],
      "metadata": {
        "colab": {
          "base_uri": "https://localhost:8080/"
        },
        "id": "gR7EN5vUkizs",
        "outputId": "5928781b-fce9-4a38-850b-78eb0cdb963e"
      },
      "execution_count": null,
      "outputs": [
        {
          "output_type": "execute_result",
          "data": {
            "text/plain": [
              "68957"
            ]
          },
          "metadata": {},
          "execution_count": 26
        }
      ]
    }
  ]
}
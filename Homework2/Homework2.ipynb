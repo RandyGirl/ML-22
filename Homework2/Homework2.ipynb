{
  "nbformat": 4,
  "nbformat_minor": 0,
  "metadata": {
    "colab": {
      "name": "Homework2.ipynb",
      "provenance": [],
      "collapsed_sections": [],
      "authorship_tag": "ABX9TyPGSQsYnTpeA2yJxG4Vshs9",
      "include_colab_link": true
    },
    "kernelspec": {
      "name": "python3",
      "display_name": "Python 3"
    },
    "language_info": {
      "name": "python"
    }
  },
  "cells": [
    {
      "cell_type": "markdown",
      "metadata": {
        "id": "view-in-github",
        "colab_type": "text"
      },
      "source": [
        "<a href=\"https://colab.research.google.com/github/RandyGirl/ML-22/blob/main/Homework2.ipynb\" target=\"_parent\"><img src=\"https://colab.research.google.com/assets/colab-badge.svg\" alt=\"Open In Colab\"/></a>"
      ]
    },
    {
      "cell_type": "markdown",
      "source": [
        "#Analyzing Fortune 1000 Data\n",
        "\n",
        " - Type of problem: Regression.\n",
        " - Goal: Predict Market Capitalization of the company."
      ],
      "metadata": {
        "id": "8Yl93JzGRmAO"
      }
    },
    {
      "cell_type": "markdown",
      "source": [
        "## Imports and Constants"
      ],
      "metadata": {
        "id": "ht_J9rLHSkqh"
      }
    },
    {
      "cell_type": "code",
      "execution_count": 1,
      "metadata": {
        "id": "SxUnswAFRTtM"
      },
      "outputs": [],
      "source": [
        "import numpy as np\n",
        "import pandas as pd\n",
        "import matplotlib.pyplot as plt\n",
        "import seaborn as sns\n",
        "\n",
        "from sklearn.model_selection import train_test_split\n",
        "\n",
        "from sklearn.linear_model import LinearRegression\n",
        "\n",
        "from sklearn.metrics import mean_absolute_error\n",
        "from sklearn.metrics import mean_squared_error\n",
        "\n",
        "from sklearn.ensemble import RandomForestClassifier\n",
        "from xgboost import XGBClassifier\n",
        "\n",
        "from sklearn.metrics import confusion_matrix\n",
        "from sklearn.metrics import classification_report\n",
        "from sklearn.metrics import log_loss\n",
        "from sklearn.model_selection import RandomizedSearchCV"
      ]
    },
    {
      "cell_type": "code",
      "source": [
        "FIG_SIZE = (20, 15)\n",
        "plt.rc('figure', figsize=FIG_SIZE)"
      ],
      "metadata": {
        "id": "9F1SlP0dSlgP"
      },
      "execution_count": 2,
      "outputs": []
    },
    {
      "cell_type": "markdown",
      "source": [
        "## Get data"
      ],
      "metadata": {
        "id": "DW_bfqubT0Mt"
      }
    },
    {
      "cell_type": "code",
      "source": [
        "!wget https://raw.githubusercontent.com/RandyGirl/ML-22/main/Fortune_1000.csv"
      ],
      "metadata": {
        "colab": {
          "base_uri": "https://localhost:8080/"
        },
        "id": "JxLxSXAX61tA",
        "outputId": "df271196-63f6-4513-d441-2d5043aa01f2"
      },
      "execution_count": 3,
      "outputs": [
        {
          "output_type": "stream",
          "name": "stdout",
          "text": [
            "--2022-05-22 17:58:36--  https://raw.githubusercontent.com/RandyGirl/ML-22/main/Fortune_1000.csv\n",
            "Resolving raw.githubusercontent.com (raw.githubusercontent.com)... 185.199.108.133, 185.199.109.133, 185.199.110.133, ...\n",
            "Connecting to raw.githubusercontent.com (raw.githubusercontent.com)|185.199.108.133|:443... connected.\n",
            "HTTP request sent, awaiting response... 200 OK\n",
            "Length: 138487 (135K) [text/plain]\n",
            "Saving to: ‘Fortune_1000.csv’\n",
            "\n",
            "Fortune_1000.csv    100%[===================>] 135.24K  --.-KB/s    in 0.03s   \n",
            "\n",
            "2022-05-22 17:58:37 (5.14 MB/s) - ‘Fortune_1000.csv’ saved [138487/138487]\n",
            "\n"
          ]
        }
      ]
    },
    {
      "cell_type": "code",
      "source": [
        "df = pd.read_csv('/content/Fortune_1000.csv')\n",
        "df"
      ],
      "metadata": {
        "colab": {
          "base_uri": "https://localhost:8080/",
          "height": 696
        },
        "id": "ZlJzxFIGTzuh",
        "outputId": "ad663c05-e61e-41d8-d066-cf35439dd9ac"
      },
      "execution_count": 4,
      "outputs": [
        {
          "output_type": "execute_result",
          "data": {
            "text/plain": [
              "                       company  rank  rank_change   revenue   profit  \\\n",
              "0                      Walmart     1          0.0  523964.0  14881.0   \n",
              "1                       Amazon     2          3.0  280522.0  11588.0   \n",
              "2                  Exxon Mobil     3         -1.0  264938.0  14340.0   \n",
              "3                        Apple     4         -1.0  260174.0  55256.0   \n",
              "4                   CVS Health     5          3.0  256776.0   6634.0   \n",
              "..                         ...   ...          ...       ...      ...   \n",
              "995           Mr. Cooper Group   996          0.0    2007.0    274.0   \n",
              "996              Herc Holdings   997          0.0    1999.0     47.5   \n",
              "997      Healthpeak Properties   998          0.0    1997.4     45.5   \n",
              "998                   SPX FLOW   999          0.0    1996.3    -95.1   \n",
              "999  Liberty Oilfield Services  1000          0.0    1990.3     39.0   \n",
              "\n",
              "     num. of employees             sector            city state newcomer  \\\n",
              "0              2200000          Retailing     Bentonville    AR       no   \n",
              "1               798000          Retailing         Seattle    WA       no   \n",
              "2                74900             Energy          Irving    TX       no   \n",
              "3               137000         Technology       Cupertino    CA       no   \n",
              "4               290000        Health Care      Woonsocket    RI       no   \n",
              "..                 ...                ...             ...   ...      ...   \n",
              "995               9100         Financials         Coppell    TX      NaN   \n",
              "996               5100  Business Services  Bonita Springs    FL      NaN   \n",
              "997                204         Financials          Irvine    CA      NaN   \n",
              "998               5000        Industrials       Charlotte    NC      NaN   \n",
              "999               2571             Energy          Denver    CO      NaN   \n",
              "\n",
              "    ceo_founder ceo_woman profitable prev_rank                    CEO  \\\n",
              "0            no        no        yes       1.0    C. Douglas McMillon   \n",
              "1           yes        no        yes       5.0       Jeffrey P. Bezos   \n",
              "2            no        no        yes       2.0        Darren W. Woods   \n",
              "3            no        no        yes       3.0        Timothy D. Cook   \n",
              "4            no       yes        yes       8.0         Karen S. Lynch   \n",
              "..          ...       ...        ...       ...                    ...   \n",
              "995          no        no        yes                         Jay Bray   \n",
              "996          no        no        yes               Lawrence H. Silber   \n",
              "997          no        no        yes                 Thomas M. Herzog   \n",
              "998          no        no         no                Marcus G. Michael   \n",
              "999         yes        no        yes            Christopher A. Wright   \n",
              "\n",
              "                           Website Ticker Market Cap  \n",
              "0    https://www.stock.walmart.com    WMT     411690  \n",
              "1           https://www.amazon.com   AMZN    1637405  \n",
              "2       https://www.exxonmobil.com    XOM     177923  \n",
              "3            https://www.apple.com   AAPL    2221176  \n",
              "4        https://www.cvshealth.com    CVS      98496  \n",
              "..                             ...    ...        ...  \n",
              "995      https://mrcoopergroup.com   COOP      674.1  \n",
              "996    https://www.hercrentals.com    HRI      590.5  \n",
              "997           https://www.hcpi.com   PEAK    12059.3  \n",
              "998        https://www.spxflow.com   FLOW     1211.8  \n",
              "999    https://www.libertyfrac.com   LBRT      302.8  \n",
              "\n",
              "[1000 rows x 18 columns]"
            ],
            "text/html": [
              "\n",
              "  <div id=\"df-7257fab6-b43a-45da-854e-7ff58ea73cb8\">\n",
              "    <div class=\"colab-df-container\">\n",
              "      <div>\n",
              "<style scoped>\n",
              "    .dataframe tbody tr th:only-of-type {\n",
              "        vertical-align: middle;\n",
              "    }\n",
              "\n",
              "    .dataframe tbody tr th {\n",
              "        vertical-align: top;\n",
              "    }\n",
              "\n",
              "    .dataframe thead th {\n",
              "        text-align: right;\n",
              "    }\n",
              "</style>\n",
              "<table border=\"1\" class=\"dataframe\">\n",
              "  <thead>\n",
              "    <tr style=\"text-align: right;\">\n",
              "      <th></th>\n",
              "      <th>company</th>\n",
              "      <th>rank</th>\n",
              "      <th>rank_change</th>\n",
              "      <th>revenue</th>\n",
              "      <th>profit</th>\n",
              "      <th>num. of employees</th>\n",
              "      <th>sector</th>\n",
              "      <th>city</th>\n",
              "      <th>state</th>\n",
              "      <th>newcomer</th>\n",
              "      <th>ceo_founder</th>\n",
              "      <th>ceo_woman</th>\n",
              "      <th>profitable</th>\n",
              "      <th>prev_rank</th>\n",
              "      <th>CEO</th>\n",
              "      <th>Website</th>\n",
              "      <th>Ticker</th>\n",
              "      <th>Market Cap</th>\n",
              "    </tr>\n",
              "  </thead>\n",
              "  <tbody>\n",
              "    <tr>\n",
              "      <th>0</th>\n",
              "      <td>Walmart</td>\n",
              "      <td>1</td>\n",
              "      <td>0.0</td>\n",
              "      <td>523964.0</td>\n",
              "      <td>14881.0</td>\n",
              "      <td>2200000</td>\n",
              "      <td>Retailing</td>\n",
              "      <td>Bentonville</td>\n",
              "      <td>AR</td>\n",
              "      <td>no</td>\n",
              "      <td>no</td>\n",
              "      <td>no</td>\n",
              "      <td>yes</td>\n",
              "      <td>1.0</td>\n",
              "      <td>C. Douglas McMillon</td>\n",
              "      <td>https://www.stock.walmart.com</td>\n",
              "      <td>WMT</td>\n",
              "      <td>411690</td>\n",
              "    </tr>\n",
              "    <tr>\n",
              "      <th>1</th>\n",
              "      <td>Amazon</td>\n",
              "      <td>2</td>\n",
              "      <td>3.0</td>\n",
              "      <td>280522.0</td>\n",
              "      <td>11588.0</td>\n",
              "      <td>798000</td>\n",
              "      <td>Retailing</td>\n",
              "      <td>Seattle</td>\n",
              "      <td>WA</td>\n",
              "      <td>no</td>\n",
              "      <td>yes</td>\n",
              "      <td>no</td>\n",
              "      <td>yes</td>\n",
              "      <td>5.0</td>\n",
              "      <td>Jeffrey P. Bezos</td>\n",
              "      <td>https://www.amazon.com</td>\n",
              "      <td>AMZN</td>\n",
              "      <td>1637405</td>\n",
              "    </tr>\n",
              "    <tr>\n",
              "      <th>2</th>\n",
              "      <td>Exxon Mobil</td>\n",
              "      <td>3</td>\n",
              "      <td>-1.0</td>\n",
              "      <td>264938.0</td>\n",
              "      <td>14340.0</td>\n",
              "      <td>74900</td>\n",
              "      <td>Energy</td>\n",
              "      <td>Irving</td>\n",
              "      <td>TX</td>\n",
              "      <td>no</td>\n",
              "      <td>no</td>\n",
              "      <td>no</td>\n",
              "      <td>yes</td>\n",
              "      <td>2.0</td>\n",
              "      <td>Darren W. Woods</td>\n",
              "      <td>https://www.exxonmobil.com</td>\n",
              "      <td>XOM</td>\n",
              "      <td>177923</td>\n",
              "    </tr>\n",
              "    <tr>\n",
              "      <th>3</th>\n",
              "      <td>Apple</td>\n",
              "      <td>4</td>\n",
              "      <td>-1.0</td>\n",
              "      <td>260174.0</td>\n",
              "      <td>55256.0</td>\n",
              "      <td>137000</td>\n",
              "      <td>Technology</td>\n",
              "      <td>Cupertino</td>\n",
              "      <td>CA</td>\n",
              "      <td>no</td>\n",
              "      <td>no</td>\n",
              "      <td>no</td>\n",
              "      <td>yes</td>\n",
              "      <td>3.0</td>\n",
              "      <td>Timothy D. Cook</td>\n",
              "      <td>https://www.apple.com</td>\n",
              "      <td>AAPL</td>\n",
              "      <td>2221176</td>\n",
              "    </tr>\n",
              "    <tr>\n",
              "      <th>4</th>\n",
              "      <td>CVS Health</td>\n",
              "      <td>5</td>\n",
              "      <td>3.0</td>\n",
              "      <td>256776.0</td>\n",
              "      <td>6634.0</td>\n",
              "      <td>290000</td>\n",
              "      <td>Health Care</td>\n",
              "      <td>Woonsocket</td>\n",
              "      <td>RI</td>\n",
              "      <td>no</td>\n",
              "      <td>no</td>\n",
              "      <td>yes</td>\n",
              "      <td>yes</td>\n",
              "      <td>8.0</td>\n",
              "      <td>Karen S. Lynch</td>\n",
              "      <td>https://www.cvshealth.com</td>\n",
              "      <td>CVS</td>\n",
              "      <td>98496</td>\n",
              "    </tr>\n",
              "    <tr>\n",
              "      <th>...</th>\n",
              "      <td>...</td>\n",
              "      <td>...</td>\n",
              "      <td>...</td>\n",
              "      <td>...</td>\n",
              "      <td>...</td>\n",
              "      <td>...</td>\n",
              "      <td>...</td>\n",
              "      <td>...</td>\n",
              "      <td>...</td>\n",
              "      <td>...</td>\n",
              "      <td>...</td>\n",
              "      <td>...</td>\n",
              "      <td>...</td>\n",
              "      <td>...</td>\n",
              "      <td>...</td>\n",
              "      <td>...</td>\n",
              "      <td>...</td>\n",
              "      <td>...</td>\n",
              "    </tr>\n",
              "    <tr>\n",
              "      <th>995</th>\n",
              "      <td>Mr. Cooper Group</td>\n",
              "      <td>996</td>\n",
              "      <td>0.0</td>\n",
              "      <td>2007.0</td>\n",
              "      <td>274.0</td>\n",
              "      <td>9100</td>\n",
              "      <td>Financials</td>\n",
              "      <td>Coppell</td>\n",
              "      <td>TX</td>\n",
              "      <td>NaN</td>\n",
              "      <td>no</td>\n",
              "      <td>no</td>\n",
              "      <td>yes</td>\n",
              "      <td></td>\n",
              "      <td>Jay Bray</td>\n",
              "      <td>https://mrcoopergroup.com</td>\n",
              "      <td>COOP</td>\n",
              "      <td>674.1</td>\n",
              "    </tr>\n",
              "    <tr>\n",
              "      <th>996</th>\n",
              "      <td>Herc Holdings</td>\n",
              "      <td>997</td>\n",
              "      <td>0.0</td>\n",
              "      <td>1999.0</td>\n",
              "      <td>47.5</td>\n",
              "      <td>5100</td>\n",
              "      <td>Business Services</td>\n",
              "      <td>Bonita Springs</td>\n",
              "      <td>FL</td>\n",
              "      <td>NaN</td>\n",
              "      <td>no</td>\n",
              "      <td>no</td>\n",
              "      <td>yes</td>\n",
              "      <td></td>\n",
              "      <td>Lawrence H. Silber</td>\n",
              "      <td>https://www.hercrentals.com</td>\n",
              "      <td>HRI</td>\n",
              "      <td>590.5</td>\n",
              "    </tr>\n",
              "    <tr>\n",
              "      <th>997</th>\n",
              "      <td>Healthpeak Properties</td>\n",
              "      <td>998</td>\n",
              "      <td>0.0</td>\n",
              "      <td>1997.4</td>\n",
              "      <td>45.5</td>\n",
              "      <td>204</td>\n",
              "      <td>Financials</td>\n",
              "      <td>Irvine</td>\n",
              "      <td>CA</td>\n",
              "      <td>NaN</td>\n",
              "      <td>no</td>\n",
              "      <td>no</td>\n",
              "      <td>yes</td>\n",
              "      <td></td>\n",
              "      <td>Thomas M. Herzog</td>\n",
              "      <td>https://www.hcpi.com</td>\n",
              "      <td>PEAK</td>\n",
              "      <td>12059.3</td>\n",
              "    </tr>\n",
              "    <tr>\n",
              "      <th>998</th>\n",
              "      <td>SPX FLOW</td>\n",
              "      <td>999</td>\n",
              "      <td>0.0</td>\n",
              "      <td>1996.3</td>\n",
              "      <td>-95.1</td>\n",
              "      <td>5000</td>\n",
              "      <td>Industrials</td>\n",
              "      <td>Charlotte</td>\n",
              "      <td>NC</td>\n",
              "      <td>NaN</td>\n",
              "      <td>no</td>\n",
              "      <td>no</td>\n",
              "      <td>no</td>\n",
              "      <td></td>\n",
              "      <td>Marcus G. Michael</td>\n",
              "      <td>https://www.spxflow.com</td>\n",
              "      <td>FLOW</td>\n",
              "      <td>1211.8</td>\n",
              "    </tr>\n",
              "    <tr>\n",
              "      <th>999</th>\n",
              "      <td>Liberty Oilfield Services</td>\n",
              "      <td>1000</td>\n",
              "      <td>0.0</td>\n",
              "      <td>1990.3</td>\n",
              "      <td>39.0</td>\n",
              "      <td>2571</td>\n",
              "      <td>Energy</td>\n",
              "      <td>Denver</td>\n",
              "      <td>CO</td>\n",
              "      <td>NaN</td>\n",
              "      <td>yes</td>\n",
              "      <td>no</td>\n",
              "      <td>yes</td>\n",
              "      <td></td>\n",
              "      <td>Christopher A. Wright</td>\n",
              "      <td>https://www.libertyfrac.com</td>\n",
              "      <td>LBRT</td>\n",
              "      <td>302.8</td>\n",
              "    </tr>\n",
              "  </tbody>\n",
              "</table>\n",
              "<p>1000 rows × 18 columns</p>\n",
              "</div>\n",
              "      <button class=\"colab-df-convert\" onclick=\"convertToInteractive('df-7257fab6-b43a-45da-854e-7ff58ea73cb8')\"\n",
              "              title=\"Convert this dataframe to an interactive table.\"\n",
              "              style=\"display:none;\">\n",
              "        \n",
              "  <svg xmlns=\"http://www.w3.org/2000/svg\" height=\"24px\"viewBox=\"0 0 24 24\"\n",
              "       width=\"24px\">\n",
              "    <path d=\"M0 0h24v24H0V0z\" fill=\"none\"/>\n",
              "    <path d=\"M18.56 5.44l.94 2.06.94-2.06 2.06-.94-2.06-.94-.94-2.06-.94 2.06-2.06.94zm-11 1L8.5 8.5l.94-2.06 2.06-.94-2.06-.94L8.5 2.5l-.94 2.06-2.06.94zm10 10l.94 2.06.94-2.06 2.06-.94-2.06-.94-.94-2.06-.94 2.06-2.06.94z\"/><path d=\"M17.41 7.96l-1.37-1.37c-.4-.4-.92-.59-1.43-.59-.52 0-1.04.2-1.43.59L10.3 9.45l-7.72 7.72c-.78.78-.78 2.05 0 2.83L4 21.41c.39.39.9.59 1.41.59.51 0 1.02-.2 1.41-.59l7.78-7.78 2.81-2.81c.8-.78.8-2.07 0-2.86zM5.41 20L4 18.59l7.72-7.72 1.47 1.35L5.41 20z\"/>\n",
              "  </svg>\n",
              "      </button>\n",
              "      \n",
              "  <style>\n",
              "    .colab-df-container {\n",
              "      display:flex;\n",
              "      flex-wrap:wrap;\n",
              "      gap: 12px;\n",
              "    }\n",
              "\n",
              "    .colab-df-convert {\n",
              "      background-color: #E8F0FE;\n",
              "      border: none;\n",
              "      border-radius: 50%;\n",
              "      cursor: pointer;\n",
              "      display: none;\n",
              "      fill: #1967D2;\n",
              "      height: 32px;\n",
              "      padding: 0 0 0 0;\n",
              "      width: 32px;\n",
              "    }\n",
              "\n",
              "    .colab-df-convert:hover {\n",
              "      background-color: #E2EBFA;\n",
              "      box-shadow: 0px 1px 2px rgba(60, 64, 67, 0.3), 0px 1px 3px 1px rgba(60, 64, 67, 0.15);\n",
              "      fill: #174EA6;\n",
              "    }\n",
              "\n",
              "    [theme=dark] .colab-df-convert {\n",
              "      background-color: #3B4455;\n",
              "      fill: #D2E3FC;\n",
              "    }\n",
              "\n",
              "    [theme=dark] .colab-df-convert:hover {\n",
              "      background-color: #434B5C;\n",
              "      box-shadow: 0px 1px 3px 1px rgba(0, 0, 0, 0.15);\n",
              "      filter: drop-shadow(0px 1px 2px rgba(0, 0, 0, 0.3));\n",
              "      fill: #FFFFFF;\n",
              "    }\n",
              "  </style>\n",
              "\n",
              "      <script>\n",
              "        const buttonEl =\n",
              "          document.querySelector('#df-7257fab6-b43a-45da-854e-7ff58ea73cb8 button.colab-df-convert');\n",
              "        buttonEl.style.display =\n",
              "          google.colab.kernel.accessAllowed ? 'block' : 'none';\n",
              "\n",
              "        async function convertToInteractive(key) {\n",
              "          const element = document.querySelector('#df-7257fab6-b43a-45da-854e-7ff58ea73cb8');\n",
              "          const dataTable =\n",
              "            await google.colab.kernel.invokeFunction('convertToInteractive',\n",
              "                                                     [key], {});\n",
              "          if (!dataTable) return;\n",
              "\n",
              "          const docLinkHtml = 'Like what you see? Visit the ' +\n",
              "            '<a target=\"_blank\" href=https://colab.research.google.com/notebooks/data_table.ipynb>data table notebook</a>'\n",
              "            + ' to learn more about interactive tables.';\n",
              "          element.innerHTML = '';\n",
              "          dataTable['output_type'] = 'display_data';\n",
              "          await google.colab.output.renderOutput(dataTable, element);\n",
              "          const docLink = document.createElement('div');\n",
              "          docLink.innerHTML = docLinkHtml;\n",
              "          element.appendChild(docLink);\n",
              "        }\n",
              "      </script>\n",
              "    </div>\n",
              "  </div>\n",
              "  "
            ]
          },
          "metadata": {},
          "execution_count": 4
        }
      ]
    },
    {
      "cell_type": "markdown",
      "source": [
        "## Exploratory Data Analysis"
      ],
      "metadata": {
        "id": "Zu1onF_SUARM"
      }
    },
    {
      "cell_type": "code",
      "source": [
        "df.info()"
      ],
      "metadata": {
        "colab": {
          "base_uri": "https://localhost:8080/"
        },
        "id": "WAxI_AS8T7YM",
        "outputId": "46c820c8-3864-4e4d-c25a-310b08b431aa"
      },
      "execution_count": 4,
      "outputs": [
        {
          "output_type": "stream",
          "name": "stdout",
          "text": [
            "<class 'pandas.core.frame.DataFrame'>\n",
            "RangeIndex: 1000 entries, 0 to 999\n",
            "Data columns (total 18 columns):\n",
            " #   Column             Non-Null Count  Dtype  \n",
            "---  ------             --------------  -----  \n",
            " 0   company            1000 non-null   object \n",
            " 1   rank               1000 non-null   int64  \n",
            " 2   rank_change        1000 non-null   float64\n",
            " 3   revenue            1000 non-null   float64\n",
            " 4   profit             998 non-null    float64\n",
            " 5   num. of employees  1000 non-null   int64  \n",
            " 6   sector             1000 non-null   object \n",
            " 7   city               1000 non-null   object \n",
            " 8   state              1000 non-null   object \n",
            " 9   newcomer           500 non-null    object \n",
            " 10  ceo_founder        1000 non-null   object \n",
            " 11  ceo_woman          1000 non-null   object \n",
            " 12  profitable         1000 non-null   object \n",
            " 13  prev_rank          1000 non-null   object \n",
            " 14  CEO                992 non-null    object \n",
            " 15  Website            1000 non-null   object \n",
            " 16  Ticker             938 non-null    object \n",
            " 17  Market Cap         960 non-null    object \n",
            "dtypes: float64(3), int64(2), object(13)\n",
            "memory usage: 140.8+ KB\n"
          ]
        }
      ]
    },
    {
      "cell_type": "code",
      "source": [
        "df.describe()"
      ],
      "metadata": {
        "colab": {
          "base_uri": "https://localhost:8080/",
          "height": 300
        },
        "id": "B2sOsEMsUDnt",
        "outputId": "bbc5253c-94f4-4804-afdb-320916abb22a"
      },
      "execution_count": 5,
      "outputs": [
        {
          "output_type": "execute_result",
          "data": {
            "text/plain": [
              "              rank  rank_change        revenue        profit  \\\n",
              "count  1000.000000  1000.000000    1000.000000    998.000000   \n",
              "mean    500.497000     0.426000   15902.339000   1344.702806   \n",
              "std     288.820278    22.424169   34762.973179   4515.839383   \n",
              "min       1.000000  -186.000000    1990.300000  -8506.000000   \n",
              "25%     250.750000     0.000000    3164.200000    110.650000   \n",
              "50%     500.500000     0.000000    5647.000000    380.700000   \n",
              "75%     750.250000     0.000000   12819.775000   1061.075000   \n",
              "max    1000.000000   224.000000  523964.000000  81417.000000   \n",
              "\n",
              "       num. of employees  \n",
              "count       1.000000e+03  \n",
              "mean        3.461598e+04  \n",
              "std         9.202401e+04  \n",
              "min         5.100000e+01  \n",
              "25%         6.400000e+03  \n",
              "50%         1.300000e+04  \n",
              "75%         2.919200e+04  \n",
              "max         2.200000e+06  "
            ],
            "text/html": [
              "\n",
              "  <div id=\"df-c404c950-a02d-4432-8fee-96dcba168a04\">\n",
              "    <div class=\"colab-df-container\">\n",
              "      <div>\n",
              "<style scoped>\n",
              "    .dataframe tbody tr th:only-of-type {\n",
              "        vertical-align: middle;\n",
              "    }\n",
              "\n",
              "    .dataframe tbody tr th {\n",
              "        vertical-align: top;\n",
              "    }\n",
              "\n",
              "    .dataframe thead th {\n",
              "        text-align: right;\n",
              "    }\n",
              "</style>\n",
              "<table border=\"1\" class=\"dataframe\">\n",
              "  <thead>\n",
              "    <tr style=\"text-align: right;\">\n",
              "      <th></th>\n",
              "      <th>rank</th>\n",
              "      <th>rank_change</th>\n",
              "      <th>revenue</th>\n",
              "      <th>profit</th>\n",
              "      <th>num. of employees</th>\n",
              "    </tr>\n",
              "  </thead>\n",
              "  <tbody>\n",
              "    <tr>\n",
              "      <th>count</th>\n",
              "      <td>1000.000000</td>\n",
              "      <td>1000.000000</td>\n",
              "      <td>1000.000000</td>\n",
              "      <td>998.000000</td>\n",
              "      <td>1.000000e+03</td>\n",
              "    </tr>\n",
              "    <tr>\n",
              "      <th>mean</th>\n",
              "      <td>500.497000</td>\n",
              "      <td>0.426000</td>\n",
              "      <td>15902.339000</td>\n",
              "      <td>1344.702806</td>\n",
              "      <td>3.461598e+04</td>\n",
              "    </tr>\n",
              "    <tr>\n",
              "      <th>std</th>\n",
              "      <td>288.820278</td>\n",
              "      <td>22.424169</td>\n",
              "      <td>34762.973179</td>\n",
              "      <td>4515.839383</td>\n",
              "      <td>9.202401e+04</td>\n",
              "    </tr>\n",
              "    <tr>\n",
              "      <th>min</th>\n",
              "      <td>1.000000</td>\n",
              "      <td>-186.000000</td>\n",
              "      <td>1990.300000</td>\n",
              "      <td>-8506.000000</td>\n",
              "      <td>5.100000e+01</td>\n",
              "    </tr>\n",
              "    <tr>\n",
              "      <th>25%</th>\n",
              "      <td>250.750000</td>\n",
              "      <td>0.000000</td>\n",
              "      <td>3164.200000</td>\n",
              "      <td>110.650000</td>\n",
              "      <td>6.400000e+03</td>\n",
              "    </tr>\n",
              "    <tr>\n",
              "      <th>50%</th>\n",
              "      <td>500.500000</td>\n",
              "      <td>0.000000</td>\n",
              "      <td>5647.000000</td>\n",
              "      <td>380.700000</td>\n",
              "      <td>1.300000e+04</td>\n",
              "    </tr>\n",
              "    <tr>\n",
              "      <th>75%</th>\n",
              "      <td>750.250000</td>\n",
              "      <td>0.000000</td>\n",
              "      <td>12819.775000</td>\n",
              "      <td>1061.075000</td>\n",
              "      <td>2.919200e+04</td>\n",
              "    </tr>\n",
              "    <tr>\n",
              "      <th>max</th>\n",
              "      <td>1000.000000</td>\n",
              "      <td>224.000000</td>\n",
              "      <td>523964.000000</td>\n",
              "      <td>81417.000000</td>\n",
              "      <td>2.200000e+06</td>\n",
              "    </tr>\n",
              "  </tbody>\n",
              "</table>\n",
              "</div>\n",
              "      <button class=\"colab-df-convert\" onclick=\"convertToInteractive('df-c404c950-a02d-4432-8fee-96dcba168a04')\"\n",
              "              title=\"Convert this dataframe to an interactive table.\"\n",
              "              style=\"display:none;\">\n",
              "        \n",
              "  <svg xmlns=\"http://www.w3.org/2000/svg\" height=\"24px\"viewBox=\"0 0 24 24\"\n",
              "       width=\"24px\">\n",
              "    <path d=\"M0 0h24v24H0V0z\" fill=\"none\"/>\n",
              "    <path d=\"M18.56 5.44l.94 2.06.94-2.06 2.06-.94-2.06-.94-.94-2.06-.94 2.06-2.06.94zm-11 1L8.5 8.5l.94-2.06 2.06-.94-2.06-.94L8.5 2.5l-.94 2.06-2.06.94zm10 10l.94 2.06.94-2.06 2.06-.94-2.06-.94-.94-2.06-.94 2.06-2.06.94z\"/><path d=\"M17.41 7.96l-1.37-1.37c-.4-.4-.92-.59-1.43-.59-.52 0-1.04.2-1.43.59L10.3 9.45l-7.72 7.72c-.78.78-.78 2.05 0 2.83L4 21.41c.39.39.9.59 1.41.59.51 0 1.02-.2 1.41-.59l7.78-7.78 2.81-2.81c.8-.78.8-2.07 0-2.86zM5.41 20L4 18.59l7.72-7.72 1.47 1.35L5.41 20z\"/>\n",
              "  </svg>\n",
              "      </button>\n",
              "      \n",
              "  <style>\n",
              "    .colab-df-container {\n",
              "      display:flex;\n",
              "      flex-wrap:wrap;\n",
              "      gap: 12px;\n",
              "    }\n",
              "\n",
              "    .colab-df-convert {\n",
              "      background-color: #E8F0FE;\n",
              "      border: none;\n",
              "      border-radius: 50%;\n",
              "      cursor: pointer;\n",
              "      display: none;\n",
              "      fill: #1967D2;\n",
              "      height: 32px;\n",
              "      padding: 0 0 0 0;\n",
              "      width: 32px;\n",
              "    }\n",
              "\n",
              "    .colab-df-convert:hover {\n",
              "      background-color: #E2EBFA;\n",
              "      box-shadow: 0px 1px 2px rgba(60, 64, 67, 0.3), 0px 1px 3px 1px rgba(60, 64, 67, 0.15);\n",
              "      fill: #174EA6;\n",
              "    }\n",
              "\n",
              "    [theme=dark] .colab-df-convert {\n",
              "      background-color: #3B4455;\n",
              "      fill: #D2E3FC;\n",
              "    }\n",
              "\n",
              "    [theme=dark] .colab-df-convert:hover {\n",
              "      background-color: #434B5C;\n",
              "      box-shadow: 0px 1px 3px 1px rgba(0, 0, 0, 0.15);\n",
              "      filter: drop-shadow(0px 1px 2px rgba(0, 0, 0, 0.3));\n",
              "      fill: #FFFFFF;\n",
              "    }\n",
              "  </style>\n",
              "\n",
              "      <script>\n",
              "        const buttonEl =\n",
              "          document.querySelector('#df-c404c950-a02d-4432-8fee-96dcba168a04 button.colab-df-convert');\n",
              "        buttonEl.style.display =\n",
              "          google.colab.kernel.accessAllowed ? 'block' : 'none';\n",
              "\n",
              "        async function convertToInteractive(key) {\n",
              "          const element = document.querySelector('#df-c404c950-a02d-4432-8fee-96dcba168a04');\n",
              "          const dataTable =\n",
              "            await google.colab.kernel.invokeFunction('convertToInteractive',\n",
              "                                                     [key], {});\n",
              "          if (!dataTable) return;\n",
              "\n",
              "          const docLinkHtml = 'Like what you see? Visit the ' +\n",
              "            '<a target=\"_blank\" href=https://colab.research.google.com/notebooks/data_table.ipynb>data table notebook</a>'\n",
              "            + ' to learn more about interactive tables.';\n",
              "          element.innerHTML = '';\n",
              "          dataTable['output_type'] = 'display_data';\n",
              "          await google.colab.output.renderOutput(dataTable, element);\n",
              "          const docLink = document.createElement('div');\n",
              "          docLink.innerHTML = docLinkHtml;\n",
              "          element.appendChild(docLink);\n",
              "        }\n",
              "      </script>\n",
              "    </div>\n",
              "  </div>\n",
              "  "
            ]
          },
          "metadata": {},
          "execution_count": 5
        }
      ]
    },
    {
      "cell_type": "code",
      "source": [
        "df.isna().mean().sort_values(ascending=False)"
      ],
      "metadata": {
        "colab": {
          "base_uri": "https://localhost:8080/"
        },
        "id": "q6NSCUJWWigw",
        "outputId": "06121228-9c0d-4402-9401-e1d08a19f4ac"
      },
      "execution_count": 6,
      "outputs": [
        {
          "output_type": "execute_result",
          "data": {
            "text/plain": [
              "newcomer             0.500\n",
              "Ticker               0.062\n",
              "Market Cap           0.040\n",
              "CEO                  0.008\n",
              "profit               0.002\n",
              "revenue              0.000\n",
              "num. of employees    0.000\n",
              "sector               0.000\n",
              "city                 0.000\n",
              "state                0.000\n",
              "rank                 0.000\n",
              "ceo_founder          0.000\n",
              "ceo_woman            0.000\n",
              "profitable           0.000\n",
              "prev_rank            0.000\n",
              "Website              0.000\n",
              "rank_change          0.000\n",
              "company              0.000\n",
              "dtype: float64"
            ]
          },
          "metadata": {},
          "execution_count": 6
        }
      ]
    },
    {
      "cell_type": "code",
      "source": [
        "for col in df:\n",
        "  unq_vals = df[col].unique()\n",
        "  num_unq_vals = len(unq_vals)\n",
        "  \n",
        "  if num_unq_vals < 12:\n",
        "    print(f'Unique {col:17} | {df[col].dtype} | {num_unq_vals:5} | {unq_vals}')\n",
        "  else:\n",
        "    print(f'Unique {col:17} | {df[col].dtype} | {num_unq_vals:5} |')"
      ],
      "metadata": {
        "colab": {
          "base_uri": "https://localhost:8080/"
        },
        "id": "YzozOOqTXNk_",
        "outputId": "559a95d8-7d63-4730-9c16-04e7ad3973fb"
      },
      "execution_count": 7,
      "outputs": [
        {
          "output_type": "stream",
          "name": "stdout",
          "text": [
            "Unique company           | object |  1000 |\n",
            "Unique rank              | int64 |   997 |\n",
            "Unique rank_change       | float64 |   118 |\n",
            "Unique revenue           | float64 |   993 |\n",
            "Unique profit            | float64 |   960 |\n",
            "Unique num. of employees | int64 |   730 |\n",
            "Unique sector            | object |    21 |\n",
            "Unique city              | object |   402 |\n",
            "Unique state             | object |    46 |\n",
            "Unique newcomer          | object |     3 | ['no' 'yes' nan]\n",
            "Unique ceo_founder       | object |     2 | ['no' 'yes']\n",
            "Unique ceo_woman         | object |     2 | ['no' 'yes']\n",
            "Unique profitable        | object |     2 | ['yes' 'no']\n",
            "Unique prev_rank         | object |   477 |\n",
            "Unique CEO               | object |   990 |\n",
            "Unique Website           | object |   999 |\n",
            "Unique Ticker            | object |   939 |\n",
            "Unique Market Cap        | object |   947 |\n"
          ]
        }
      ]
    },
    {
      "cell_type": "code",
      "source": [
        "{ col: len(df[col].unique()) for col in df.select_dtypes('object').columns }"
      ],
      "metadata": {
        "colab": {
          "base_uri": "https://localhost:8080/"
        },
        "id": "E5HKBDsgWmVJ",
        "outputId": "6ec05974-f6f6-4a60-f2e7-edce1567e2da"
      },
      "execution_count": 8,
      "outputs": [
        {
          "output_type": "execute_result",
          "data": {
            "text/plain": [
              "{'CEO': 990,\n",
              " 'Market Cap': 947,\n",
              " 'Ticker': 939,\n",
              " 'Website': 999,\n",
              " 'ceo_founder': 2,\n",
              " 'ceo_woman': 2,\n",
              " 'city': 402,\n",
              " 'company': 1000,\n",
              " 'newcomer': 3,\n",
              " 'prev_rank': 477,\n",
              " 'profitable': 2,\n",
              " 'sector': 21,\n",
              " 'state': 46}"
            ]
          },
          "metadata": {},
          "execution_count": 8
        }
      ]
    },
    {
      "cell_type": "code",
      "source": [
        "df['Market Cap'].unique()"
      ],
      "metadata": {
        "colab": {
          "base_uri": "https://localhost:8080/"
        },
        "id": "QJqP2NnveIl3",
        "outputId": "5426bea9-f753-4b28-c13d-b4c81e44c01f"
      },
      "execution_count": 9,
      "outputs": [
        {
          "output_type": "execute_result",
          "data": {
            "text/plain": [
              "array(['411690', '1637405', '177923', '2221176', '98496', '550878',\n",
              "       '332885', '29570', '206369', '21246', '1274139', '26297', '60335',\n",
              "       '160040', '156714', '16018', '414465', '79953', '41552', '236948',\n",
              "       '1696122', '24840', '25178', '11350', '279768', '295312', '27084',\n",
              "       '223642', '79964', '99941', '131684', '22928', '53132', '57773',\n",
              "       '427473', nan, '94296', '115909', '104549', '89183', '6404',\n",
              "       '36191', '138166', '126315', '202996', '768185', '66788', '46483',\n",
              "       '315029', '324875', '195312', '54438', '33268', '29767', '7118',\n",
              "       '26828', '95594', '32499', '17648', '104183', '135401', '104491',\n",
              "       '191585', '202882', '56831', '27682', '103823', '26543', '208627',\n",
              "       '5655', '137205', '33752', '-', '29062', '9114', '30430', '24169',\n",
              "       '81992', '170158', '44203', '94622', '225123', '56224', '209200',\n",
              "       '1489', '146007', '61446', '41928', '49812', '50946', '1463',\n",
              "       '198828', '988', '38472', '98187', '200082', '36735', '119615',\n",
              "       '36517.5', '15962', '8075', '16130', '47928', '68690', '123779',\n",
              "       '149709', '4472', '81663', '30969', '204446', '1520.4', '3738.4',\n",
              "       '30226.3', '66815', '806143', '848.1', '186163', '333.7', '21772',\n",
              "       '10827.3', '4629', '17398.5', '35008', '492.2', '46778.5',\n",
              "       '119571.5', '5287', '496377', '94790.5', '16836', '94124', '28467',\n",
              "       '6027.4', '10307.1', '20044', '132760.4', '33058', '25222',\n",
              "       '21437', '147025', '822.3', '66208', '25213.1', '64062', '6807',\n",
              "       '3311.1', '159179', '41103', '3109.4', '29808.5', '12624.8',\n",
              "       '168395', '12242', '8085', '259043', '2265', '10058', '71863',\n",
              "       '2896.7', '2505.9', '9870.8', '14431', '164661', '8795', '1501.8',\n",
              "       '44691', '50469', '11971', '13316.3', '7907', '42185.8', '968.6',\n",
              "       '286198', '27388', '3967.8', '292.3', '20907.4', '65554', '5142.2',\n",
              "       '4762.8', '204547', '333881', '33837', '8500.8', '25495.2',\n",
              "       '43567', '11447', '58397', '15766', '2614', '9236', '14748',\n",
              "       '30952.3', '68745', '40084', '5658', '14557', '48621', '13432',\n",
              "       '34144', '88465', '11906', '10023', '62336', '92148', '92289',\n",
              "       '1354.2', '69604', '98603', '113810', '28209', '44996', '159107',\n",
              "       '55070.4', '16652.5', '5186', '7000.9', '69618', '48226.1',\n",
              "       '64884', '13476', '10923.5', '32110', '22043', '41576', '6071.3',\n",
              "       '19812', '2539.6', '1294.8', '393.6', '31529.7', '5720', '27066',\n",
              "       '12601.8', '299.8', '1074.3', '3196.7', '15366', '48000',\n",
              "       '10455.8', '1910', '18289.5', '26034.5', '6310.7', '35542',\n",
              "       '19867.6', '7765.4', '11008', '3575', '7877.2', '813.2', '534.5',\n",
              "       '3046.6', '44161.7', '19756.2', '7795.3', '109983', '7875.8',\n",
              "       '5402.5', '22394', '16009', '34381', '15664.2', '21090', '30180',\n",
              "       '14142.9', '11193', '41180.1', '37537.3', '1640.6', '224860',\n",
              "       '115.6', '9503.1', '44962', '15605', '36532', '8189', '330936',\n",
              "       '18870.6', '21666.4', '23930.2', '52495', '867.7', '8441', '8453',\n",
              "       '567.1', '4247', '81343', '10021', '30177', '13877', '6278.9',\n",
              "       '12518', '9040.8', '73172', '5037.4', '9014.5', '22353.4',\n",
              "       '6217.9', '5949.1', '22685.3', '5279.7', '5464.3', '2746.2',\n",
              "       '13928.5', '6829.8', '10560.3', '878', '14109.5', '51030',\n",
              "       '8511.8', '6461.3', '81078', '576.9', '6706.9', '14290.8',\n",
              "       '12787.1', '25081.9', '29881', '1810.4', '12557', '11624.9',\n",
              "       '1190.1', '6330', '3449.8', '966.6', '9800.3', '4030.2', '29247',\n",
              "       '19912.6', '3546.3', '7923.5', '10365.7', '5366.2', '3748',\n",
              "       '44049.6', '4098.2', '7420.3', '4463', '2972.7', '3490', '16033.2',\n",
              "       '1848.3', '4612.1', '1675.8', '1610.8', '3924.4', '1128.2',\n",
              "       '4017.4', '520.5', '25835.3', '6580', '337.7', '3793.9', '6854.3',\n",
              "       '6517', '4874.8', '4294', '9809.9', '1779', '3217.2', '6331',\n",
              "       '9118', '1927.2', '21725.6', '17165.7', '9227.1', '11208.2',\n",
              "       '628.7', '4900.8', '27601.3', '39.9', '2525.7', '8040', '14236',\n",
              "       '2297.4', '27791.8', '20891.4', '12241.5', '9569.1', '29314',\n",
              "       '2328.3', '61028', '2506.5', '12658.2', '18949.6', '2842', '17164',\n",
              "       '10057.8', '126.9', '847.9', '98962', '27799.2', '15920', '9893.6',\n",
              "       '2645.8', '30696.4', '9.7', '23672', '5562', '10441.3', '1420.3',\n",
              "       '6075', '4634.9', '1064.8', '15454.9', '6040', '4200.9', '1188.2',\n",
              "       '12094.4', '1138', '8485.4', '2816.5', '13321', '18440', '2287',\n",
              "       '19730', '18023.6', '7219', '16697.2', '3273.8', '102329',\n",
              "       '8587.8', '106741', '701.5', '13101', '77459', '17533.3', '1108.5',\n",
              "       '11874', '1602.7', '12636.5', '2540.2', '56723', '408.1',\n",
              "       '10163.6', '1623.1', '73515', '225.6', '6595', '5882', '863.8',\n",
              "       '4928.3', '8775', '68', '55895', '13.9', '21673.5', '5300',\n",
              "       '4790.6', '3542', '9220.9', '81.2', '1841.8', '7602', '537.3',\n",
              "       '7155.6', '3574.6', '18738.8', '33010.9', '17969.9', '7238',\n",
              "       '346.9', '1880', '1145.6', '8293.2', '12761', '8393', '60178.6',\n",
              "       '31269', '19164.4', '5732', '8398.6', '4480', '2478', '4305.4',\n",
              "       '36126', '33006', '41429', '1464.9', '7721.1', '64843', '1465.5',\n",
              "       '1455.9', '5113.7', '17190.3', '7792.9', '2014.7', '380.6', '6187',\n",
              "       '33086.1', '2892.7', '3788.1', '496.4', '25937', '18767.4',\n",
              "       '4310.2', '27962', '557', '1478.3', '7489.9', '3878.1', '11737.9',\n",
              "       '3724.9', '1217.8', '9545.1', '2618.3', '1881.9', '1923.7',\n",
              "       '22177.2', '16506.3', '12477.6', '10902.4', '3282.7', '18795.2',\n",
              "       '2.2', '237.9', '4377', '7272', '19942.4', '595', '6300', '42236',\n",
              "       '14325.2', '2484', '43287.5', '3457.4', '502.1', '574.9', '60.6',\n",
              "       '61984.7', '14943.5', '7031', '39594.4', '2402', '6976.9',\n",
              "       '3821.9', '86.3', '6049.8', '1478.9', '15191.5', '5860', '2604',\n",
              "       '3425.5', '11769.9', '11233.2', '9793.5', '88370', '1015.3',\n",
              "       '4109.4', '13645', '932.1', '11203.5', '2789.4', '281.6', '8614',\n",
              "       '1698.1', '8428.9', '6239.4', '5879.9', '22534.4', '138.9',\n",
              "       '2806.8', '1630.8', '7729.4', '3055.9', '199.3', '3214.8', '9916',\n",
              "       '85902', '19638', '519.1', '339.2', '6326.3', '2929.6', '2840.8',\n",
              "       '15694.3', '1806.1', '2296.8', '272.8', '204.4', '979.3',\n",
              "       '10886.7', '15773.9', '2280.3', '39105.8', '2339.3', '1468.9',\n",
              "       '1329.3', '15681.2', '980.3', '6838.8', '23370', '14427', '1472.5',\n",
              "       '732.6', '30205.8', '941.4', '55963', '14093.5', '621.4', '1669.2',\n",
              "       '136', '4341.3', '1076.3', '15691.6', '3784.9', '2215', '5951.1',\n",
              "       '1877.8', '1894.5', '6208.2', '8598.5', '1795.1', '1392.3',\n",
              "       '1623.4', '2254.2', '4147.1', '3217.4', '3127.2', '8480', '1872',\n",
              "       '943.6', '681', '9992.7', '2589.1', '2715', '4117.7', '7016.9',\n",
              "       '2451.8', '32212', '5697', '1433.2', '8341.9', '2203.3', '1073.8',\n",
              "       '2625.2', '3393.8', '1557.3', '1372.7', '349.6', '11832.5',\n",
              "       '54430', '1183.3', '559.9', '14933', '8233.3', '554.1', '21642.7',\n",
              "       '5993.2', '8168', '1279', '43917', '12272', '2887.4', '2870.3',\n",
              "       '981', '14569.4', '1546.4', '3016.6', '299.1', '1090.8', '357.3',\n",
              "       '1768.4', '8521.8', '1716.3', '105782', '35536', '81.7', '1548',\n",
              "       '2742.4', '6924.1', '2866.3', '910.5', '709.5', '7539.2',\n",
              "       '15155.5', '345', '9270.9', '350.5', '3144.6', '3044.9', '30028',\n",
              "       '1752.3', '810.2', '1480.5', '59400.6', '1609.4', '3', '25843.4',\n",
              "       '4434', '1692', '1462.8', '672.8', '2911.4', '1193.8', '67854',\n",
              "       '7962.8', '214', '4389', '2559.3', '7083.9', '9307.8', '1608.7',\n",
              "       '449.3', '36016.5', '7921.2', '307.6', '1601.6', '10893.1',\n",
              "       '369.7', '5693', '7738.9', '7585.5', '6963.3', '3834', '665.7',\n",
              "       '173', '1629.1', '3861.8', '767.2', '2277.2', '2710.1', '9327.7',\n",
              "       '1177', '1992.6', '8923.1', '6286', '3802.8', '1350.7', '19394.3',\n",
              "       '170', '4702.7', '4139', '914.4', '578.3', '17319.8', '16558.8',\n",
              "       '1923.6', '4150.8', '84.3', '6125.4', '443.9', '9988.4', '1316.2',\n",
              "       '14306.9', '1118.5', '3196.1', '563.5', '776.8', '1344.4',\n",
              "       '1790.6', '109.2', '208.2', '5723.2', '6739.3', '1713.1', '4244.7',\n",
              "       '12132.5', '3698.1', '35400', '1435.9', '14810.6', '770.9',\n",
              "       '3721.5', '8379', '4698.7', '12228.5', '6474.7', '34684.6',\n",
              "       '2967.5', '3992.8', '4897.2', '1898.3', '2608.1', '479.7',\n",
              "       '3103.3', '580.8', '1085.7', '2095.1', '1703.9', '2281.1', '597.3',\n",
              "       '2866.5', '819.3', '4587.7', '7411.2', '666.3', '2100.3', '8309.7',\n",
              "       '2710.9', '22954.8', '3818.5', '852.9', '1095.6', '298.5', '444.4',\n",
              "       '781', '18790', '2084.3', '16086', '14701.6', '15935.9', '1932.9',\n",
              "       '801', '46.4', '49.4', '5536', '14075', '1879', '22729.5',\n",
              "       '21300.6', '13580.1', '3246.5', '2081.9', '3313.4', '1311.2',\n",
              "       '3087.2', '1341', '1120.3', '8045.1', '2242.2', '472.4', '9450',\n",
              "       '10529.4', '1640.2', '3929.4', '767.9', '480.5', '1474.3', '451.6',\n",
              "       '2514.7', '10306.3', '396.9', '1364.5', '1213.7', '580.1', '16000',\n",
              "       '20644.9', '35203', '11315.9', '2585.8', '1159.6', '263.8',\n",
              "       '10269.3', '2466.8', '1441.2', '3038.6', '1543.6', '1673.9',\n",
              "       '492.9', '1718.9', '27923', '3076.5', '3099.6', '4490.6', '43.3',\n",
              "       '1333', '18546.2', '3991', '20711.9', '381.6', '888.6', '13095.3',\n",
              "       '4792.8', '10490.6', '1673.4', '1924.5', '2371.3', '9025.5',\n",
              "       '437.6', '18183', '1706.1', '42.9', '2013.3', '2513', '1232.3',\n",
              "       '5947.7', '727.9', '1075.8', '6483.5', '2830.9', '6151.5',\n",
              "       '1090.7', '2996.1', '2920.1', '1699.7', '2708.7', '555.7', '754',\n",
              "       '166.4', '165.1', '593.4', '8713.4', '11813', '1317.9', '196.1',\n",
              "       '7814.9', '4284.1', '457.9', '2761.4', '15874.5', '18950', '444.5',\n",
              "       '623.4', '66.1', '1307.6', '353.9', '4288.9', '1071.6', '894.3',\n",
              "       '3126.8', '202.1', '4419.9', '3657', '5529.7', '113.3', '298.4',\n",
              "       '629', '2231.7', '39.6', '5936.4', '509.3', '9184.7', '2933.8',\n",
              "       '3451.2', '3637.2', '251.5', '291.8', '7613', '27030', '155.2',\n",
              "       '65.7', '642.3', '1871.9', '3750.3', '95.2', '50.5', '2515.9',\n",
              "       '11845.9', '30217.6', '1093.9', '674.1', '590.5', '12059.3',\n",
              "       '1211.8', '302.8'], dtype=object)"
            ]
          },
          "metadata": {},
          "execution_count": 9
        }
      ]
    },
    {
      "cell_type": "code",
      "source": [
        "df['Market Cap'] = df['Market Cap'].replace({\n",
        "  '-': np.nan \n",
        "})"
      ],
      "metadata": {
        "id": "uEj2NrvAgHAf"
      },
      "execution_count": 10,
      "outputs": []
    },
    {
      "cell_type": "code",
      "source": [
        "ax = sns.histplot(df['Market Cap'].astype(float))"
      ],
      "metadata": {
        "colab": {
          "base_uri": "https://localhost:8080/",
          "height": 877
        },
        "id": "Vxlmhj0fFxEf",
        "outputId": "abd8523d-4b99-4f27-df56-acf85285ce29"
      },
      "execution_count": 11,
      "outputs": [
        {
          "output_type": "display_data",
          "data": {
            "text/plain": [
              "<Figure size 1440x1080 with 1 Axes>"
            ],
            "image/png": "[encoded data removed]"
          },
          "metadata": {
            "needs_background": "light"
          }
        }
      ]
    },
    {
      "cell_type": "code",
      "source": [
        "ax = sns.histplot(np.log1p(df['Market Cap'].astype(float)))"
      ],
      "metadata": {
        "colab": {
          "base_uri": "https://localhost:8080/",
          "height": 877
        },
        "id": "EFAV6CKBGE8d",
        "outputId": "42272806-ef7d-4743-e1a7-cbccdce5e3e3"
      },
      "execution_count": 12,
      "outputs": [
        {
          "output_type": "display_data",
          "data": {
            "text/plain": [
              "<Figure size 1440x1080 with 1 Axes>"
            ],
            "image/png": "[encoded data removed]"
          },
          "metadata": {
            "needs_background": "light"
          }
        }
      ]
    },
    {
      "cell_type": "code",
      "source": [
        "features = df.select_dtypes('number')\n",
        "features"
      ],
      "metadata": {
        "colab": {
          "base_uri": "https://localhost:8080/",
          "height": 424
        },
        "id": "CtayUd0GZhRO",
        "outputId": "270ecaf8-8d66-4d16-dc0c-731957219391"
      },
      "execution_count": 13,
      "outputs": [
        {
          "output_type": "execute_result",
          "data": {
            "text/plain": [
              "     rank  rank_change   revenue   profit  num. of employees\n",
              "0       1          0.0  523964.0  14881.0            2200000\n",
              "1       2          3.0  280522.0  11588.0             798000\n",
              "2       3         -1.0  264938.0  14340.0              74900\n",
              "3       4         -1.0  260174.0  55256.0             137000\n",
              "4       5          3.0  256776.0   6634.0             290000\n",
              "..    ...          ...       ...      ...                ...\n",
              "995   996          0.0    2007.0    274.0               9100\n",
              "996   997          0.0    1999.0     47.5               5100\n",
              "997   998          0.0    1997.4     45.5                204\n",
              "998   999          0.0    1996.3    -95.1               5000\n",
              "999  1000          0.0    1990.3     39.0               2571\n",
              "\n",
              "[1000 rows x 5 columns]"
            ],
            "text/html": [
              "\n",
              "  <div id=\"df-ab0aaf55-c000-4dc1-8c58-b2d12fb5e352\">\n",
              "    <div class=\"colab-df-container\">\n",
              "      <div>\n",
              "<style scoped>\n",
              "    .dataframe tbody tr th:only-of-type {\n",
              "        vertical-align: middle;\n",
              "    }\n",
              "\n",
              "    .dataframe tbody tr th {\n",
              "        vertical-align: top;\n",
              "    }\n",
              "\n",
              "    .dataframe thead th {\n",
              "        text-align: right;\n",
              "    }\n",
              "</style>\n",
              "<table border=\"1\" class=\"dataframe\">\n",
              "  <thead>\n",
              "    <tr style=\"text-align: right;\">\n",
              "      <th></th>\n",
              "      <th>rank</th>\n",
              "      <th>rank_change</th>\n",
              "      <th>revenue</th>\n",
              "      <th>profit</th>\n",
              "      <th>num. of employees</th>\n",
              "    </tr>\n",
              "  </thead>\n",
              "  <tbody>\n",
              "    <tr>\n",
              "      <th>0</th>\n",
              "      <td>1</td>\n",
              "      <td>0.0</td>\n",
              "      <td>523964.0</td>\n",
              "      <td>14881.0</td>\n",
              "      <td>2200000</td>\n",
              "    </tr>\n",
              "    <tr>\n",
              "      <th>1</th>\n",
              "      <td>2</td>\n",
              "      <td>3.0</td>\n",
              "      <td>280522.0</td>\n",
              "      <td>11588.0</td>\n",
              "      <td>798000</td>\n",
              "    </tr>\n",
              "    <tr>\n",
              "      <th>2</th>\n",
              "      <td>3</td>\n",
              "      <td>-1.0</td>\n",
              "      <td>264938.0</td>\n",
              "      <td>14340.0</td>\n",
              "      <td>74900</td>\n",
              "    </tr>\n",
              "    <tr>\n",
              "      <th>3</th>\n",
              "      <td>4</td>\n",
              "      <td>-1.0</td>\n",
              "      <td>260174.0</td>\n",
              "      <td>55256.0</td>\n",
              "      <td>137000</td>\n",
              "    </tr>\n",
              "    <tr>\n",
              "      <th>4</th>\n",
              "      <td>5</td>\n",
              "      <td>3.0</td>\n",
              "      <td>256776.0</td>\n",
              "      <td>6634.0</td>\n",
              "      <td>290000</td>\n",
              "    </tr>\n",
              "    <tr>\n",
              "      <th>...</th>\n",
              "      <td>...</td>\n",
              "      <td>...</td>\n",
              "      <td>...</td>\n",
              "      <td>...</td>\n",
              "      <td>...</td>\n",
              "    </tr>\n",
              "    <tr>\n",
              "      <th>995</th>\n",
              "      <td>996</td>\n",
              "      <td>0.0</td>\n",
              "      <td>2007.0</td>\n",
              "      <td>274.0</td>\n",
              "      <td>9100</td>\n",
              "    </tr>\n",
              "    <tr>\n",
              "      <th>996</th>\n",
              "      <td>997</td>\n",
              "      <td>0.0</td>\n",
              "      <td>1999.0</td>\n",
              "      <td>47.5</td>\n",
              "      <td>5100</td>\n",
              "    </tr>\n",
              "    <tr>\n",
              "      <th>997</th>\n",
              "      <td>998</td>\n",
              "      <td>0.0</td>\n",
              "      <td>1997.4</td>\n",
              "      <td>45.5</td>\n",
              "      <td>204</td>\n",
              "    </tr>\n",
              "    <tr>\n",
              "      <th>998</th>\n",
              "      <td>999</td>\n",
              "      <td>0.0</td>\n",
              "      <td>1996.3</td>\n",
              "      <td>-95.1</td>\n",
              "      <td>5000</td>\n",
              "    </tr>\n",
              "    <tr>\n",
              "      <th>999</th>\n",
              "      <td>1000</td>\n",
              "      <td>0.0</td>\n",
              "      <td>1990.3</td>\n",
              "      <td>39.0</td>\n",
              "      <td>2571</td>\n",
              "    </tr>\n",
              "  </tbody>\n",
              "</table>\n",
              "<p>1000 rows × 5 columns</p>\n",
              "</div>\n",
              "      <button class=\"colab-df-convert\" onclick=\"convertToInteractive('df-ab0aaf55-c000-4dc1-8c58-b2d12fb5e352')\"\n",
              "              title=\"Convert this dataframe to an interactive table.\"\n",
              "              style=\"display:none;\">\n",
              "        \n",
              "  <svg xmlns=\"http://www.w3.org/2000/svg\" height=\"24px\"viewBox=\"0 0 24 24\"\n",
              "       width=\"24px\">\n",
              "    <path d=\"M0 0h24v24H0V0z\" fill=\"none\"/>\n",
              "    <path d=\"M18.56 5.44l.94 2.06.94-2.06 2.06-.94-2.06-.94-.94-2.06-.94 2.06-2.06.94zm-11 1L8.5 8.5l.94-2.06 2.06-.94-2.06-.94L8.5 2.5l-.94 2.06-2.06.94zm10 10l.94 2.06.94-2.06 2.06-.94-2.06-.94-.94-2.06-.94 2.06-2.06.94z\"/><path d=\"M17.41 7.96l-1.37-1.37c-.4-.4-.92-.59-1.43-.59-.52 0-1.04.2-1.43.59L10.3 9.45l-7.72 7.72c-.78.78-.78 2.05 0 2.83L4 21.41c.39.39.9.59 1.41.59.51 0 1.02-.2 1.41-.59l7.78-7.78 2.81-2.81c.8-.78.8-2.07 0-2.86zM5.41 20L4 18.59l7.72-7.72 1.47 1.35L5.41 20z\"/>\n",
              "  </svg>\n",
              "      </button>\n",
              "      \n",
              "  <style>\n",
              "    .colab-df-container {\n",
              "      display:flex;\n",
              "      flex-wrap:wrap;\n",
              "      gap: 12px;\n",
              "    }\n",
              "\n",
              "    .colab-df-convert {\n",
              "      background-color: #E8F0FE;\n",
              "      border: none;\n",
              "      border-radius: 50%;\n",
              "      cursor: pointer;\n",
              "      display: none;\n",
              "      fill: #1967D2;\n",
              "      height: 32px;\n",
              "      padding: 0 0 0 0;\n",
              "      width: 32px;\n",
              "    }\n",
              "\n",
              "    .colab-df-convert:hover {\n",
              "      background-color: #E2EBFA;\n",
              "      box-shadow: 0px 1px 2px rgba(60, 64, 67, 0.3), 0px 1px 3px 1px rgba(60, 64, 67, 0.15);\n",
              "      fill: #174EA6;\n",
              "    }\n",
              "\n",
              "    [theme=dark] .colab-df-convert {\n",
              "      background-color: #3B4455;\n",
              "      fill: #D2E3FC;\n",
              "    }\n",
              "\n",
              "    [theme=dark] .colab-df-convert:hover {\n",
              "      background-color: #434B5C;\n",
              "      box-shadow: 0px 1px 3px 1px rgba(0, 0, 0, 0.15);\n",
              "      filter: drop-shadow(0px 1px 2px rgba(0, 0, 0, 0.3));\n",
              "      fill: #FFFFFF;\n",
              "    }\n",
              "  </style>\n",
              "\n",
              "      <script>\n",
              "        const buttonEl =\n",
              "          document.querySelector('#df-ab0aaf55-c000-4dc1-8c58-b2d12fb5e352 button.colab-df-convert');\n",
              "        buttonEl.style.display =\n",
              "          google.colab.kernel.accessAllowed ? 'block' : 'none';\n",
              "\n",
              "        async function convertToInteractive(key) {\n",
              "          const element = document.querySelector('#df-ab0aaf55-c000-4dc1-8c58-b2d12fb5e352');\n",
              "          const dataTable =\n",
              "            await google.colab.kernel.invokeFunction('convertToInteractive',\n",
              "                                                     [key], {});\n",
              "          if (!dataTable) return;\n",
              "\n",
              "          const docLinkHtml = 'Like what you see? Visit the ' +\n",
              "            '<a target=\"_blank\" href=https://colab.research.google.com/notebooks/data_table.ipynb>data table notebook</a>'\n",
              "            + ' to learn more about interactive tables.';\n",
              "          element.innerHTML = '';\n",
              "          dataTable['output_type'] = 'display_data';\n",
              "          await google.colab.output.renderOutput(dataTable, element);\n",
              "          const docLink = document.createElement('div');\n",
              "          docLink.innerHTML = docLinkHtml;\n",
              "          element.appendChild(docLink);\n",
              "        }\n",
              "      </script>\n",
              "    </div>\n",
              "  </div>\n",
              "  "
            ]
          },
          "metadata": {},
          "execution_count": 13
        }
      ]
    },
    {
      "cell_type": "code",
      "source": [
        "cap = df['Market Cap'].fillna(df['Market Cap'].mode()[0])\n",
        "cap"
      ],
      "metadata": {
        "colab": {
          "base_uri": "https://localhost:8080/"
        },
        "id": "m-I87w-4b1-I",
        "outputId": "53f14d53-8052-44d0-d4a9-1c67396db2e6"
      },
      "execution_count": 14,
      "outputs": [
        {
          "output_type": "execute_result",
          "data": {
            "text/plain": [
              "0       411690\n",
              "1      1637405\n",
              "2       177923\n",
              "3      2221176\n",
              "4        98496\n",
              "        ...   \n",
              "995      674.1\n",
              "996      590.5\n",
              "997    12059.3\n",
              "998     1211.8\n",
              "999      302.8\n",
              "Name: Market Cap, Length: 1000, dtype: object"
            ]
          },
          "metadata": {},
          "execution_count": 14
        }
      ]
    },
    {
      "cell_type": "code",
      "source": [
        "cap = cap.astype(float)\n",
        "features = features.join(cap)\n",
        "features"
      ],
      "metadata": {
        "colab": {
          "base_uri": "https://localhost:8080/",
          "height": 424
        },
        "id": "uqwsl6MIdKZx",
        "outputId": "c6f36049-0580-4825-d53a-bc41b68eed53"
      },
      "execution_count": 15,
      "outputs": [
        {
          "output_type": "execute_result",
          "data": {
            "text/plain": [
              "     rank  rank_change   revenue   profit  num. of employees  Market Cap\n",
              "0       1          0.0  523964.0  14881.0            2200000    411690.0\n",
              "1       2          3.0  280522.0  11588.0             798000   1637405.0\n",
              "2       3         -1.0  264938.0  14340.0              74900    177923.0\n",
              "3       4         -1.0  260174.0  55256.0             137000   2221176.0\n",
              "4       5          3.0  256776.0   6634.0             290000     98496.0\n",
              "..    ...          ...       ...      ...                ...         ...\n",
              "995   996          0.0    2007.0    274.0               9100       674.1\n",
              "996   997          0.0    1999.0     47.5               5100       590.5\n",
              "997   998          0.0    1997.4     45.5                204     12059.3\n",
              "998   999          0.0    1996.3    -95.1               5000      1211.8\n",
              "999  1000          0.0    1990.3     39.0               2571       302.8\n",
              "\n",
              "[1000 rows x 6 columns]"
            ],
            "text/html": [
              "\n",
              "  <div id=\"df-71e598a3-11ef-4dc6-8d32-55c5cb68d0d9\">\n",
              "    <div class=\"colab-df-container\">\n",
              "      <div>\n",
              "<style scoped>\n",
              "    .dataframe tbody tr th:only-of-type {\n",
              "        vertical-align: middle;\n",
              "    }\n",
              "\n",
              "    .dataframe tbody tr th {\n",
              "        vertical-align: top;\n",
              "    }\n",
              "\n",
              "    .dataframe thead th {\n",
              "        text-align: right;\n",
              "    }\n",
              "</style>\n",
              "<table border=\"1\" class=\"dataframe\">\n",
              "  <thead>\n",
              "    <tr style=\"text-align: right;\">\n",
              "      <th></th>\n",
              "      <th>rank</th>\n",
              "      <th>rank_change</th>\n",
              "      <th>revenue</th>\n",
              "      <th>profit</th>\n",
              "      <th>num. of employees</th>\n",
              "      <th>Market Cap</th>\n",
              "    </tr>\n",
              "  </thead>\n",
              "  <tbody>\n",
              "    <tr>\n",
              "      <th>0</th>\n",
              "      <td>1</td>\n",
              "      <td>0.0</td>\n",
              "      <td>523964.0</td>\n",
              "      <td>14881.0</td>\n",
              "      <td>2200000</td>\n",
              "      <td>411690.0</td>\n",
              "    </tr>\n",
              "    <tr>\n",
              "      <th>1</th>\n",
              "      <td>2</td>\n",
              "      <td>3.0</td>\n",
              "      <td>280522.0</td>\n",
              "      <td>11588.0</td>\n",
              "      <td>798000</td>\n",
              "      <td>1637405.0</td>\n",
              "    </tr>\n",
              "    <tr>\n",
              "      <th>2</th>\n",
              "      <td>3</td>\n",
              "      <td>-1.0</td>\n",
              "      <td>264938.0</td>\n",
              "      <td>14340.0</td>\n",
              "      <td>74900</td>\n",
              "      <td>177923.0</td>\n",
              "    </tr>\n",
              "    <tr>\n",
              "      <th>3</th>\n",
              "      <td>4</td>\n",
              "      <td>-1.0</td>\n",
              "      <td>260174.0</td>\n",
              "      <td>55256.0</td>\n",
              "      <td>137000</td>\n",
              "      <td>2221176.0</td>\n",
              "    </tr>\n",
              "    <tr>\n",
              "      <th>4</th>\n",
              "      <td>5</td>\n",
              "      <td>3.0</td>\n",
              "      <td>256776.0</td>\n",
              "      <td>6634.0</td>\n",
              "      <td>290000</td>\n",
              "      <td>98496.0</td>\n",
              "    </tr>\n",
              "    <tr>\n",
              "      <th>...</th>\n",
              "      <td>...</td>\n",
              "      <td>...</td>\n",
              "      <td>...</td>\n",
              "      <td>...</td>\n",
              "      <td>...</td>\n",
              "      <td>...</td>\n",
              "    </tr>\n",
              "    <tr>\n",
              "      <th>995</th>\n",
              "      <td>996</td>\n",
              "      <td>0.0</td>\n",
              "      <td>2007.0</td>\n",
              "      <td>274.0</td>\n",
              "      <td>9100</td>\n",
              "      <td>674.1</td>\n",
              "    </tr>\n",
              "    <tr>\n",
              "      <th>996</th>\n",
              "      <td>997</td>\n",
              "      <td>0.0</td>\n",
              "      <td>1999.0</td>\n",
              "      <td>47.5</td>\n",
              "      <td>5100</td>\n",
              "      <td>590.5</td>\n",
              "    </tr>\n",
              "    <tr>\n",
              "      <th>997</th>\n",
              "      <td>998</td>\n",
              "      <td>0.0</td>\n",
              "      <td>1997.4</td>\n",
              "      <td>45.5</td>\n",
              "      <td>204</td>\n",
              "      <td>12059.3</td>\n",
              "    </tr>\n",
              "    <tr>\n",
              "      <th>998</th>\n",
              "      <td>999</td>\n",
              "      <td>0.0</td>\n",
              "      <td>1996.3</td>\n",
              "      <td>-95.1</td>\n",
              "      <td>5000</td>\n",
              "      <td>1211.8</td>\n",
              "    </tr>\n",
              "    <tr>\n",
              "      <th>999</th>\n",
              "      <td>1000</td>\n",
              "      <td>0.0</td>\n",
              "      <td>1990.3</td>\n",
              "      <td>39.0</td>\n",
              "      <td>2571</td>\n",
              "      <td>302.8</td>\n",
              "    </tr>\n",
              "  </tbody>\n",
              "</table>\n",
              "<p>1000 rows × 6 columns</p>\n",
              "</div>\n",
              "      <button class=\"colab-df-convert\" onclick=\"convertToInteractive('df-71e598a3-11ef-4dc6-8d32-55c5cb68d0d9')\"\n",
              "              title=\"Convert this dataframe to an interactive table.\"\n",
              "              style=\"display:none;\">\n",
              "        \n",
              "  <svg xmlns=\"http://www.w3.org/2000/svg\" height=\"24px\"viewBox=\"0 0 24 24\"\n",
              "       width=\"24px\">\n",
              "    <path d=\"M0 0h24v24H0V0z\" fill=\"none\"/>\n",
              "    <path d=\"M18.56 5.44l.94 2.06.94-2.06 2.06-.94-2.06-.94-.94-2.06-.94 2.06-2.06.94zm-11 1L8.5 8.5l.94-2.06 2.06-.94-2.06-.94L8.5 2.5l-.94 2.06-2.06.94zm10 10l.94 2.06.94-2.06 2.06-.94-2.06-.94-.94-2.06-.94 2.06-2.06.94z\"/><path d=\"M17.41 7.96l-1.37-1.37c-.4-.4-.92-.59-1.43-.59-.52 0-1.04.2-1.43.59L10.3 9.45l-7.72 7.72c-.78.78-.78 2.05 0 2.83L4 21.41c.39.39.9.59 1.41.59.51 0 1.02-.2 1.41-.59l7.78-7.78 2.81-2.81c.8-.78.8-2.07 0-2.86zM5.41 20L4 18.59l7.72-7.72 1.47 1.35L5.41 20z\"/>\n",
              "  </svg>\n",
              "      </button>\n",
              "      \n",
              "  <style>\n",
              "    .colab-df-container {\n",
              "      display:flex;\n",
              "      flex-wrap:wrap;\n",
              "      gap: 12px;\n",
              "    }\n",
              "\n",
              "    .colab-df-convert {\n",
              "      background-color: #E8F0FE;\n",
              "      border: none;\n",
              "      border-radius: 50%;\n",
              "      cursor: pointer;\n",
              "      display: none;\n",
              "      fill: #1967D2;\n",
              "      height: 32px;\n",
              "      padding: 0 0 0 0;\n",
              "      width: 32px;\n",
              "    }\n",
              "\n",
              "    .colab-df-convert:hover {\n",
              "      background-color: #E2EBFA;\n",
              "      box-shadow: 0px 1px 2px rgba(60, 64, 67, 0.3), 0px 1px 3px 1px rgba(60, 64, 67, 0.15);\n",
              "      fill: #174EA6;\n",
              "    }\n",
              "\n",
              "    [theme=dark] .colab-df-convert {\n",
              "      background-color: #3B4455;\n",
              "      fill: #D2E3FC;\n",
              "    }\n",
              "\n",
              "    [theme=dark] .colab-df-convert:hover {\n",
              "      background-color: #434B5C;\n",
              "      box-shadow: 0px 1px 3px 1px rgba(0, 0, 0, 0.15);\n",
              "      filter: drop-shadow(0px 1px 2px rgba(0, 0, 0, 0.3));\n",
              "      fill: #FFFFFF;\n",
              "    }\n",
              "  </style>\n",
              "\n",
              "      <script>\n",
              "        const buttonEl =\n",
              "          document.querySelector('#df-71e598a3-11ef-4dc6-8d32-55c5cb68d0d9 button.colab-df-convert');\n",
              "        buttonEl.style.display =\n",
              "          google.colab.kernel.accessAllowed ? 'block' : 'none';\n",
              "\n",
              "        async function convertToInteractive(key) {\n",
              "          const element = document.querySelector('#df-71e598a3-11ef-4dc6-8d32-55c5cb68d0d9');\n",
              "          const dataTable =\n",
              "            await google.colab.kernel.invokeFunction('convertToInteractive',\n",
              "                                                     [key], {});\n",
              "          if (!dataTable) return;\n",
              "\n",
              "          const docLinkHtml = 'Like what you see? Visit the ' +\n",
              "            '<a target=\"_blank\" href=https://colab.research.google.com/notebooks/data_table.ipynb>data table notebook</a>'\n",
              "            + ' to learn more about interactive tables.';\n",
              "          element.innerHTML = '';\n",
              "          dataTable['output_type'] = 'display_data';\n",
              "          await google.colab.output.renderOutput(dataTable, element);\n",
              "          const docLink = document.createElement('div');\n",
              "          docLink.innerHTML = docLinkHtml;\n",
              "          element.appendChild(docLink);\n",
              "        }\n",
              "      </script>\n",
              "    </div>\n",
              "  </div>\n",
              "  "
            ]
          },
          "metadata": {},
          "execution_count": 15
        }
      ]
    },
    {
      "cell_type": "code",
      "source": [
        "sns.pairplot(features, x_vars=['rank', 'rank_change', 'revenue', 'profit', 'num. of employees'], y_vars='Market Cap', height=7, aspect=0.7)\n",
        "plt.show()"
      ],
      "metadata": {
        "colab": {
          "base_uri": "https://localhost:8080/",
          "height": 424
        },
        "id": "SOwCslOsbAg_",
        "outputId": "dcb08566-8a39-4c3c-f557-64f3cf1b470b"
      },
      "execution_count": 16,
      "outputs": [
        {
          "output_type": "display_data",
          "data": {
            "text/plain": [
              "<Figure size 1764x504 with 5 Axes>"
            ],
            "image/png": "[encoded data removed]"
          },
          "metadata": {
            "needs_background": "light"
          }
        }
      ]
    },
    {
      "cell_type": "code",
      "source": [
        "df['newcomer'].value_counts()"
      ],
      "metadata": {
        "colab": {
          "base_uri": "https://localhost:8080/"
        },
        "id": "1sFsl5tBbT-g",
        "outputId": "ccca1953-cf32-44a6-f94b-a7350df47609"
      },
      "execution_count": 17,
      "outputs": [
        {
          "output_type": "execute_result",
          "data": {
            "text/plain": [
              "no     477\n",
              "yes     23\n",
              "Name: newcomer, dtype: int64"
            ]
          },
          "metadata": {},
          "execution_count": 17
        }
      ]
    },
    {
      "cell_type": "code",
      "source": [
        "ax = sns.barplot(\n",
        "    y=df['newcomer'].value_counts(normalize=True).index,\n",
        "    x=df['newcomer'].value_counts(normalize=True).values,\n",
        ")"
      ],
      "metadata": {
        "colab": {
          "base_uri": "https://localhost:8080/",
          "height": 863
        },
        "id": "QfpHRBqW6E2w",
        "outputId": "6e50744e-b53b-4ef9-80e6-5e35440aabe6"
      },
      "execution_count": 18,
      "outputs": [
        {
          "output_type": "display_data",
          "data": {
            "text/plain": [
              "<Figure size 1440x1080 with 1 Axes>"
            ],
            "image/png": "[encoded data removed]"
          },
          "metadata": {
            "needs_background": "light"
          }
        }
      ]
    },
    {
      "cell_type": "code",
      "source": [
        "ax = sns.histplot(df['revenue'])"
      ],
      "metadata": {
        "colab": {
          "base_uri": "https://localhost:8080/",
          "height": 877
        },
        "id": "QjY7_KRb6dli",
        "outputId": "2335faba-ad52-49b9-c28e-651ba68a922c"
      },
      "execution_count": 19,
      "outputs": [
        {
          "output_type": "display_data",
          "data": {
            "text/plain": [
              "<Figure size 1440x1080 with 1 Axes>"
            ],
            "image/png": "[encoded data removed]"
          },
          "metadata": {
            "needs_background": "light"
          }
        }
      ]
    },
    {
      "cell_type": "code",
      "source": [
        "ax = sns.histplot(np.log1p(df['revenue']))"
      ],
      "metadata": {
        "colab": {
          "base_uri": "https://localhost:8080/",
          "height": 877
        },
        "id": "3Sw34IURFdJs",
        "outputId": "dd42a27f-8788-4d64-a93b-d0b9b831c490"
      },
      "execution_count": 20,
      "outputs": [
        {
          "output_type": "display_data",
          "data": {
            "text/plain": [
              "<Figure size 1440x1080 with 1 Axes>"
            ],
            "image/png": "[encoded data removed]"
          },
          "metadata": {
            "needs_background": "light"
          }
        }
      ]
    },
    {
      "cell_type": "code",
      "source": [
        "ax = sns.histplot(df['profit'])"
      ],
      "metadata": {
        "colab": {
          "base_uri": "https://localhost:8080/",
          "height": 877
        },
        "id": "1mY3uQsxHBJK",
        "outputId": "e47eaf72-cfdd-4319-9ee5-1ccda5e3c06d"
      },
      "execution_count": 21,
      "outputs": [
        {
          "output_type": "display_data",
          "data": {
            "text/plain": [
              "<Figure size 1440x1080 with 1 Axes>"
            ],
            "image/png": "[encoded data removed]"
          },
          "metadata": {
            "needs_background": "light"
          }
        }
      ]
    },
    {
      "cell_type": "code",
      "source": [
        "ax = sns.histplot(np.log1p(df['profit']))"
      ],
      "metadata": {
        "colab": {
          "base_uri": "https://localhost:8080/",
          "height": 913
        },
        "id": "Ilb9df0FHKn_",
        "outputId": "0ecd7a0f-1255-43b8-bd8d-8f0b5d11a577"
      },
      "execution_count": 22,
      "outputs": [
        {
          "output_type": "stream",
          "name": "stderr",
          "text": [
            "/usr/local/lib/python3.7/dist-packages/pandas/core/arraylike.py:364: RuntimeWarning: invalid value encountered in log1p\n",
            "  result = getattr(ufunc, method)(*inputs, **kwargs)\n"
          ]
        },
        {
          "output_type": "display_data",
          "data": {
            "text/plain": [
              "<Figure size 1440x1080 with 1 Axes>"
            ],
            "image/png": "[encoded data removed]"
          },
          "metadata": {
            "needs_background": "light"
          }
        }
      ]
    },
    {
      "cell_type": "code",
      "source": [
        "df['sector'].value_counts(normalize=True)"
      ],
      "metadata": {
        "colab": {
          "base_uri": "https://localhost:8080/"
        },
        "id": "DacYS8LuHSDd",
        "outputId": "f61e3d47-d205-4e27-9bd3-32c3297b936d"
      },
      "execution_count": 23,
      "outputs": [
        {
          "output_type": "execute_result",
          "data": {
            "text/plain": [
              "Financials                       0.162\n",
              "Technology                       0.109\n",
              "Energy                           0.109\n",
              "Retailing                        0.075\n",
              "Health Care                      0.071\n",
              "Business Services                0.052\n",
              "Industrials                      0.050\n",
              "Materials                        0.046\n",
              "Transportation                   0.038\n",
              "Food, Beverages & Tobacco        0.037\n",
              "Wholesalers                      0.035\n",
              "Engineering & Construction       0.030\n",
              "Chemicals                        0.027\n",
              "Hotels, Restaurants & Leisure    0.027\n",
              "Household Products               0.026\n",
              "Media                            0.025\n",
              "Aerospace & Defense              0.022\n",
              "Motor Vehicles & Parts           0.022\n",
              "Apparel                          0.016\n",
              "Telecommunications               0.011\n",
              "Food & Drug Stores               0.010\n",
              "Name: sector, dtype: float64"
            ]
          },
          "metadata": {},
          "execution_count": 23
        }
      ]
    },
    {
      "cell_type": "code",
      "source": [
        "ax = sns.barplot(\n",
        "    y=df['sector'].value_counts(normalize=True).index,\n",
        "    x=df['sector'].value_counts(normalize=True).values,\n",
        ")"
      ],
      "metadata": {
        "colab": {
          "base_uri": "https://localhost:8080/",
          "height": 863
        },
        "id": "0aD9hHkRH-F6",
        "outputId": "b3619c38-5174-499d-d94e-51d40d876322"
      },
      "execution_count": 24,
      "outputs": [
        {
          "output_type": "display_data",
          "data": {
            "text/plain": [
              "<Figure size 1440x1080 with 1 Axes>"
            ],
            "image/png": "[encoded data removed]"
          },
          "metadata": {
            "needs_background": "light"
          }
        }
      ]
    },
    {
      "cell_type": "code",
      "source": [
        "df['state'].value_counts(normalize=True)"
      ],
      "metadata": {
        "colab": {
          "base_uri": "https://localhost:8080/"
        },
        "id": "h8zOVL5XIDNR",
        "outputId": "332f0cf4-cd55-4524-c402-58d8e1b4a231"
      },
      "execution_count": 25,
      "outputs": [
        {
          "output_type": "execute_result",
          "data": {
            "text/plain": [
              "CA    0.121\n",
              "TX    0.095\n",
              "NY    0.089\n",
              "IL    0.065\n",
              "OH    0.053\n",
              "PA    0.044\n",
              "FL    0.038\n",
              "VA    0.035\n",
              "GA    0.034\n",
              "MA    0.033\n",
              "NC    0.031\n",
              "MI    0.029\n",
              "NJ    0.027\n",
              "CT    0.025\n",
              "MN    0.024\n",
              "WI    0.023\n",
              "CO    0.023\n",
              "MO    0.020\n",
              "TN    0.020\n",
              "AZ    0.019\n",
              "IN    0.018\n",
              "WA    0.016\n",
              "MD    0.013\n",
              "OK    0.012\n",
              "NV    0.009\n",
              "NE    0.008\n",
              "AR    0.008\n",
              "KY    0.007\n",
              "RI    0.007\n",
              "IA    0.006\n",
              "OR    0.006\n",
              "DE    0.006\n",
              "KS    0.004\n",
              "ID    0.004\n",
              "LA    0.004\n",
              "DC    0.004\n",
              "AL    0.003\n",
              "SC    0.003\n",
              "UT    0.003\n",
              "HI    0.003\n",
              "NH    0.002\n",
              "PR    0.002\n",
              "ND    0.001\n",
              "MS    0.001\n",
              "VT    0.001\n",
              "ME    0.001\n",
              "Name: state, dtype: float64"
            ]
          },
          "metadata": {},
          "execution_count": 25
        }
      ]
    },
    {
      "cell_type": "code",
      "source": [
        "ax = sns.barplot(\n",
        "    y=df['state'].value_counts(normalize=True).index,\n",
        "    x=df['state'].value_counts(normalize=True).values,\n",
        ")"
      ],
      "metadata": {
        "colab": {
          "base_uri": "https://localhost:8080/",
          "height": 863
        },
        "id": "N2a1wr4TIcAc",
        "outputId": "322234ee-fc43-471b-dda5-86f938f62674"
      },
      "execution_count": 26,
      "outputs": [
        {
          "output_type": "display_data",
          "data": {
            "text/plain": [
              "<Figure size 1440x1080 with 1 Axes>"
            ],
            "image/png": "[encoded data removed]"
          },
          "metadata": {
            "needs_background": "light"
          }
        }
      ]
    },
    {
      "cell_type": "code",
      "source": [
        "df['prev_rank'].value_counts(normalize=True)"
      ],
      "metadata": {
        "colab": {
          "base_uri": "https://localhost:8080/"
        },
        "id": "VIra2aH5yhbi",
        "outputId": "a82b931b-827d-4b22-bc72-8c79f88f5317"
      },
      "execution_count": 31,
      "outputs": [
        {
          "output_type": "execute_result",
          "data": {
            "text/plain": [
              "         0.523\n",
              "210.0    0.002\n",
              "1.0      0.001\n",
              "315.0    0.001\n",
              "317.0    0.001\n",
              "         ...  \n",
              "151.0    0.001\n",
              "149.0    0.001\n",
              "122.0    0.001\n",
              "145.0    0.001\n",
              "471.0    0.001\n",
              "Name: prev_rank, Length: 477, dtype: float64"
            ]
          },
          "metadata": {},
          "execution_count": 31
        }
      ]
    },
    {
      "cell_type": "code",
      "source": [
        "df['prev_rank'].unique()"
      ],
      "metadata": {
        "colab": {
          "base_uri": "https://localhost:8080/"
        },
        "id": "dVW2XSNoyn5C",
        "outputId": "fb3592bb-c900-47af-fe37-159b02425692"
      },
      "execution_count": 33,
      "outputs": [
        {
          "output_type": "execute_result",
          "data": {
            "text/plain": [
              "array(['1.0', '5.0', '2.0', '3.0', '8.0', '4.0', '6.0', '7.0', '9.0',\n",
              "       '10.0', '15.0', '12.0', '65.0', '14.0', '11.0', '16.0', '18.0',\n",
              "       '13.0', '17.0', '19.0', '26.0', '31.0', '20.0', '22.0', '25.0',\n",
              "       '27.0', '23.0', '32.0', '33.0', '29.0', '30.0', '24.0', '21.0',\n",
              "       '34.0', '37.0', '36.0', '39.0', '38.0', '46.0', '28.0', '40.0',\n",
              "       '51.0', '41.0', '42.0', '43.0', '57.0', '47.0', '44.0', '53.0',\n",
              "       '45.0', '48.0', '56.0', '50.0', '49.0', '52.0', '54.0', '60.0',\n",
              "       '55.0', '59.0', '62.0', '63.0', '58.0', '64.0', '61.0', '67.0',\n",
              "       '66.0', '72.0', '69.0', '76.0', '68.0', '70.0', '82.0', '71.0',\n",
              "       '73.0', '74.0', '78.0', '75.0', ' ', '80.0', '85.0', '79.0',\n",
              "       '81.0', '92.0', '87.0', '90.0', '99.0', '91.0', '100.0', '84.0',\n",
              "       '88.0', '83.0', '77.0', '86.0', '101.0', '93.0', '108.0', '98.0',\n",
              "       '94.0', '96.0', '112.0', '89.0', '111.0', '95.0', '103.0', '97.0',\n",
              "       '106.0', '110.0', '114.0', '102.0', '109.0', '217.0', '119.0',\n",
              "       '117.0', '121.0', '138.0', '125.0', '116.0', '130.0', '124.0',\n",
              "       '118.0', '140.0', '115.0', '126.0', '144.0', '113.0', '137.0',\n",
              "       '179.0', '146.0', '158.0', '135.0', '128.0', '310.0', '105.0',\n",
              "       '129.0', '136.0', '153.0', '150.0', '120.0', '139.0', '142.0',\n",
              "       '127.0', '132.0', '133.0', '123.0', '143.0', '154.0', '167.0',\n",
              "       '134.0', '107.0', '159.0', '35.0', '131.0', '145.0', '122.0',\n",
              "       '149.0', '151.0', '141.0', '163.0', '161.0', '160.0', '148.0',\n",
              "       '157.0', '197.0', '156.0', '147.0', '162.0', '176.0', '165.0',\n",
              "       '173.0', '169.0', '184.0', '174.0', '172.0', '171.0', '178.0',\n",
              "       '190.0', '191.0', '189.0', '177.0', '164.0', '204.0', '194.0',\n",
              "       '175.0', '267.0', '181.0', '195.0', '187.0', '183.0', '240.0',\n",
              "       '210.0', '200.0', '168.0', '193.0', '180.0', '238.0', '152.0',\n",
              "       '186.0', '198.0', '219.0', '209.0', '202.0', '192.0', '196.0',\n",
              "       '208.0', '213.0', '185.0', '205.0', '216.0', '206.0', '226.0',\n",
              "       '215.0', '233.0', '231.0', '203.0', '246.0', '182.0', '221.0',\n",
              "       '228.0', '170.0', '199.0', '235.0', '218.0', '251.0', '227.0',\n",
              "       '239.0', '214.0', '188.0', '253.0', '212.0', '252.0', '230.0',\n",
              "       '229.0', '234.0', '244.0', '225.0', '250.0', '223.0', '224.0',\n",
              "       '245.0', '247.0', '249.0', '254.0', '222.0', '241.0', '266.0',\n",
              "       '474.0', '232.0', '265.0', '220.0', '306.0', '270.0', '259.0',\n",
              "       '262.0', '269.0', '255.0', '299.0', '283.0', '257.0', '280.0',\n",
              "       '272.0', '258.0', '273.0', '260.0', '281.0', '298.0', '337.0',\n",
              "       '289.0', '284.0', '303.0', '278.0', '292.0', '274.0', '279.0',\n",
              "       '282.0', '271.0', '293.0', '286.0', '277.0', '308.0', '339.0',\n",
              "       '261.0', '300.0', '409.0', '311.0', '305.0', '275.0', '268.0',\n",
              "       '288.0', '263.0', '295.0', '319.0', '285.0', '294.0', '264.0',\n",
              "       '336.0', '316.0', '236.0', '361.0', '242.0', '314.0', '380.0',\n",
              "       '340.0', '322.0', '312.0', '296.0', '488.0', '301.0', '256.0',\n",
              "       '329.0', '378.0', '243.0', '323.0', '341.0', '330.0', '382.0',\n",
              "       '315.0', '324.0', '349.0', '291.0', '384.0', '331.0', '327.0',\n",
              "       '419.0', '383.0', '326.0', '287.0', '317.0', '386.0', '441.0',\n",
              "       '356.0', '328.0', '345.0', '353.0', '379.0', '333.0', '307.0',\n",
              "       '313.0', '375.0', '338.0', '354.0', '318.0', '446.0', '335.0',\n",
              "       '437.0', '166.0', '343.0', '363.0', '344.0', '325.0', '371.0',\n",
              "       '389.0', '364.0', '368.0', '362.0', '359.0', '365.0', '360.0',\n",
              "       '302.0', '334.0', '373.0', '351.0', '321.0', '377.0', '358.0',\n",
              "       '376.0', '309.0', '357.0', '402.0', '381.0', '395.0', '408.0',\n",
              "       '370.0', '388.0', '276.0', '427.0', '366.0', '429.0', '369.0',\n",
              "       '348.0', '374.0', '352.0', '403.0', '355.0', '399.0', '415.0',\n",
              "       '407.0', '385.0', '391.0', '387.0', '421.0', '397.0', '416.0',\n",
              "       '367.0', '450.0', '420.0', '414.0', '392.0', '430.0', '404.0',\n",
              "       '413.0', '347.0', '320.0', '410.0', '423.0', '398.0', '424.0',\n",
              "       '449.0', '297.0', '442.0', '393.0', '422.0', '400.0', '451.0',\n",
              "       '394.0', '428.0', '481.0', '439.0', '435.0', '436.0', '431.0',\n",
              "       '417.0', '412.0', '464.0', '425.0', '444.0', '432.0', '462.0',\n",
              "       '465.0', '453.0', '459.0', '476.0', '440.0', '455.0', '482.0',\n",
              "       '447.0', '460.0', '475.0', '470.0', '452.0', '438.0', '448.0',\n",
              "       '390.0', '406.0', '342.0', '469.0', '418.0', '461.0', '463.0',\n",
              "       '405.0', '346.0', '411.0', '443.0', '458.0', '473.0', '426.0',\n",
              "       '445.0', '487.0', '457.0', '477.0', '486.0', '491.0', '480.0',\n",
              "       '483.0', '479.0', '433.0', '434.0', '490.0', '396.0', '484.0',\n",
              "       '472.0', '468.0', '495.0', '478.0', '467.0', '500.0', '496.0',\n",
              "       '471.0'], dtype=object)"
            ]
          },
          "metadata": {},
          "execution_count": 33
        }
      ]
    },
    {
      "cell_type": "code",
      "source": [
        "df['prev_rank'] = df['prev_rank'].replace({\n",
        "  ' ': np.nan \n",
        "})"
      ],
      "metadata": {
        "id": "Lwr5Fdi6y7Rl"
      },
      "execution_count": 36,
      "outputs": []
    },
    {
      "cell_type": "markdown",
      "source": [
        "## Preprocessing"
      ],
      "metadata": {
        "id": "nnnyt9ywlOf_"
      }
    },
    {
      "cell_type": "code",
      "source": [
        "def preprocess_inputs(df, return_X_y=False):\n",
        "  df = df.copy()\n",
        "\n",
        "  # Drop columns that give little information\n",
        "  df = df.drop(['company'], axis=1)\n",
        "  df = df.drop(['Website'], axis=1)\n",
        "  df = df.drop(['Ticker'], axis=1)\n",
        "  df = df.drop(['CEO'], axis=1)\n",
        "\n",
        "  df = df.dropna(subset=['Market Cap'])\n",
        "\n",
        "  #Fill nan values\n",
        "  df['newcomer'] = df['newcomer'].fillna(df['newcomer'].mode()[0])\n",
        "  df['profit'] = df['profit'].fillna(df['profit'].mode()[0])\n",
        "  df['prev_rank'] = df['prev_rank'].fillna(df['prev_rank'].mode()[0])\n",
        "\n",
        "\n",
        "  df['Market Cap'] = df['Market Cap'].astype(float)\n",
        "  df['prev_rank'] = df['prev_rank'].astype(float)\n",
        "\n",
        "  # One-hot encode binary categorical features\n",
        "  for col in ['newcomer', 'ceo_founder', 'ceo_woman', 'profitable']:\n",
        "    df[col] = np.where(df[col] == 'no', 0, 1)\n",
        "  \n",
        "  dummies = pd.get_dummies(df.select_dtypes('object'))\n",
        "  df = pd.concat([df, dummies], axis=1)\n",
        "  df = df.drop(df.select_dtypes('object').columns, axis=1)\n",
        "  \n",
        "  # Split into X and y\n",
        "  y = df['Market Cap']\n",
        "  X = df.drop(['Market Cap'], axis=1)\n",
        "\n",
        "  if return_X_y:\n",
        "    return X, y\n",
        "\n",
        "  # Train test split\n",
        "  X_train, X_test, y_train, y_test = train_test_split(X, y, test_size=0.3) \n",
        "  \n",
        "  return X_train, X_test, y_train, y_test"
      ],
      "metadata": {
        "id": "RnlnSN7FIhVP"
      },
      "execution_count": 39,
      "outputs": []
    },
    {
      "cell_type": "code",
      "source": [
        "X_train, X_test, y_train, y_test = preprocess_inputs(df)\n",
        "X_train"
      ],
      "metadata": {
        "colab": {
          "base_uri": "https://localhost:8080/",
          "height": 505
        },
        "id": "dYFKD_OYtf8C",
        "outputId": "9a63a80b-e0ff-4adf-b3da-275bbad4d6fb"
      },
      "execution_count": 40,
      "outputs": [
        {
          "output_type": "execute_result",
          "data": {
            "text/plain": [
              "     rank  rank_change  revenue  profit  num. of employees  newcomer  \\\n",
              "957   958          0.0   2141.0  -372.2               6000         0   \n",
              "405   406         14.0   7863.1   530.1              18200         0   \n",
              "134   135         -6.0  23362.0  7842.0              23400         0   \n",
              "674   675          0.0   3647.7   557.2               3597         0   \n",
              "991   992          0.0   2016.9   587.1                117         0   \n",
              "..    ...          ...      ...     ...                ...       ...   \n",
              "517   518          0.0   5366.8  1767.9              16460         0   \n",
              "485   486          0.0   6016.0  2208.0               9226         1   \n",
              "110   111        106.0  27812.0  3308.0              26280         0   \n",
              "383   384        -18.0   8235.0   935.0              22000         0   \n",
              "342   343        -30.0   9273.0   759.0              14500         0   \n",
              "\n",
              "     ceo_founder  ceo_woman  profitable  prev_rank  ...  state_PA  state_PR  \\\n",
              "957            0          0           0      210.0  ...         0         0   \n",
              "405            0          0           1      420.0  ...         0         0   \n",
              "134            0          0           1      129.0  ...         0         0   \n",
              "674            0          0           1      210.0  ...         0         0   \n",
              "991            0          0           1      210.0  ...         0         0   \n",
              "..           ...        ...         ...        ...  ...       ...       ...   \n",
              "517            0          0           1      210.0  ...         0         0   \n",
              "485            0          0           1      210.0  ...         0         0   \n",
              "110            0          0           1      217.0  ...         0         0   \n",
              "383            0          0           1      366.0  ...         0         0   \n",
              "342            0          0           1      313.0  ...         0         0   \n",
              "\n",
              "     state_RI  state_SC  state_TN  state_TX  state_UT  state_VA  state_WA  \\\n",
              "957         0         0         0         0         0         0         0   \n",
              "405         0         0         0         0         0         0         0   \n",
              "134         0         0         0         0         0         0         0   \n",
              "674         0         0         0         0         0         0         0   \n",
              "991         0         0         0         0         0         0         0   \n",
              "..        ...       ...       ...       ...       ...       ...       ...   \n",
              "517         0         0         0         0         0         0         0   \n",
              "485         0         0         0         0         0         0         0   \n",
              "110         0         0         0         0         0         0         0   \n",
              "383         0         0         0         0         0         0         0   \n",
              "342         0         0         1         0         0         0         0   \n",
              "\n",
              "     state_WI  \n",
              "957         0  \n",
              "405         0  \n",
              "134         0  \n",
              "674         1  \n",
              "991         0  \n",
              "..        ...  \n",
              "517         0  \n",
              "485         0  \n",
              "110         0  \n",
              "383         0  \n",
              "342         0  \n",
              "\n",
              "[665 rows x 462 columns]"
            ],
            "text/html": [
              "\n",
              "  <div id=\"df-cb2ddccd-26e2-4f36-830f-1d788df3ef09\">\n",
              "    <div class=\"colab-df-container\">\n",
              "      <div>\n",
              "<style scoped>\n",
              "    .dataframe tbody tr th:only-of-type {\n",
              "        vertical-align: middle;\n",
              "    }\n",
              "\n",
              "    .dataframe tbody tr th {\n",
              "        vertical-align: top;\n",
              "    }\n",
              "\n",
              "    .dataframe thead th {\n",
              "        text-align: right;\n",
              "    }\n",
              "</style>\n",
              "<table border=\"1\" class=\"dataframe\">\n",
              "  <thead>\n",
              "    <tr style=\"text-align: right;\">\n",
              "      <th></th>\n",
              "      <th>rank</th>\n",
              "      <th>rank_change</th>\n",
              "      <th>revenue</th>\n",
              "      <th>profit</th>\n",
              "      <th>num. of employees</th>\n",
              "      <th>newcomer</th>\n",
              "      <th>ceo_founder</th>\n",
              "      <th>ceo_woman</th>\n",
              "      <th>profitable</th>\n",
              "      <th>prev_rank</th>\n",
              "      <th>...</th>\n",
              "      <th>state_PA</th>\n",
              "      <th>state_PR</th>\n",
              "      <th>state_RI</th>\n",
              "      <th>state_SC</th>\n",
              "      <th>state_TN</th>\n",
              "      <th>state_TX</th>\n",
              "      <th>state_UT</th>\n",
              "      <th>state_VA</th>\n",
              "      <th>state_WA</th>\n",
              "      <th>state_WI</th>\n",
              "    </tr>\n",
              "  </thead>\n",
              "  <tbody>\n",
              "    <tr>\n",
              "      <th>957</th>\n",
              "      <td>958</td>\n",
              "      <td>0.0</td>\n",
              "      <td>2141.0</td>\n",
              "      <td>-372.2</td>\n",
              "      <td>6000</td>\n",
              "      <td>0</td>\n",
              "      <td>0</td>\n",
              "      <td>0</td>\n",
              "      <td>0</td>\n",
              "      <td>210.0</td>\n",
              "      <td>...</td>\n",
              "      <td>0</td>\n",
              "      <td>0</td>\n",
              "      <td>0</td>\n",
              "      <td>0</td>\n",
              "      <td>0</td>\n",
              "      <td>0</td>\n",
              "      <td>0</td>\n",
              "      <td>0</td>\n",
              "      <td>0</td>\n",
              "      <td>0</td>\n",
              "    </tr>\n",
              "    <tr>\n",
              "      <th>405</th>\n",
              "      <td>406</td>\n",
              "      <td>14.0</td>\n",
              "      <td>7863.1</td>\n",
              "      <td>530.1</td>\n",
              "      <td>18200</td>\n",
              "      <td>0</td>\n",
              "      <td>0</td>\n",
              "      <td>0</td>\n",
              "      <td>1</td>\n",
              "      <td>420.0</td>\n",
              "      <td>...</td>\n",
              "      <td>0</td>\n",
              "      <td>0</td>\n",
              "      <td>0</td>\n",
              "      <td>0</td>\n",
              "      <td>0</td>\n",
              "      <td>0</td>\n",
              "      <td>0</td>\n",
              "      <td>0</td>\n",
              "      <td>0</td>\n",
              "      <td>0</td>\n",
              "    </tr>\n",
              "    <tr>\n",
              "      <th>134</th>\n",
              "      <td>135</td>\n",
              "      <td>-6.0</td>\n",
              "      <td>23362.0</td>\n",
              "      <td>7842.0</td>\n",
              "      <td>23400</td>\n",
              "      <td>0</td>\n",
              "      <td>0</td>\n",
              "      <td>0</td>\n",
              "      <td>1</td>\n",
              "      <td>129.0</td>\n",
              "      <td>...</td>\n",
              "      <td>0</td>\n",
              "      <td>0</td>\n",
              "      <td>0</td>\n",
              "      <td>0</td>\n",
              "      <td>0</td>\n",
              "      <td>0</td>\n",
              "      <td>0</td>\n",
              "      <td>0</td>\n",
              "      <td>0</td>\n",
              "      <td>0</td>\n",
              "    </tr>\n",
              "    <tr>\n",
              "      <th>674</th>\n",
              "      <td>675</td>\n",
              "      <td>0.0</td>\n",
              "      <td>3647.7</td>\n",
              "      <td>557.2</td>\n",
              "      <td>3597</td>\n",
              "      <td>0</td>\n",
              "      <td>0</td>\n",
              "      <td>0</td>\n",
              "      <td>1</td>\n",
              "      <td>210.0</td>\n",
              "      <td>...</td>\n",
              "      <td>0</td>\n",
              "      <td>0</td>\n",
              "      <td>0</td>\n",
              "      <td>0</td>\n",
              "      <td>0</td>\n",
              "      <td>0</td>\n",
              "      <td>0</td>\n",
              "      <td>0</td>\n",
              "      <td>0</td>\n",
              "      <td>1</td>\n",
              "    </tr>\n",
              "    <tr>\n",
              "      <th>991</th>\n",
              "      <td>992</td>\n",
              "      <td>0.0</td>\n",
              "      <td>2016.9</td>\n",
              "      <td>587.1</td>\n",
              "      <td>117</td>\n",
              "      <td>0</td>\n",
              "      <td>0</td>\n",
              "      <td>0</td>\n",
              "      <td>1</td>\n",
              "      <td>210.0</td>\n",
              "      <td>...</td>\n",
              "      <td>0</td>\n",
              "      <td>0</td>\n",
              "      <td>0</td>\n",
              "      <td>0</td>\n",
              "      <td>0</td>\n",
              "      <td>0</td>\n",
              "      <td>0</td>\n",
              "      <td>0</td>\n",
              "      <td>0</td>\n",
              "      <td>0</td>\n",
              "    </tr>\n",
              "    <tr>\n",
              "      <th>...</th>\n",
              "      <td>...</td>\n",
              "      <td>...</td>\n",
              "      <td>...</td>\n",
              "      <td>...</td>\n",
              "      <td>...</td>\n",
              "      <td>...</td>\n",
              "      <td>...</td>\n",
              "      <td>...</td>\n",
              "      <td>...</td>\n",
              "      <td>...</td>\n",
              "      <td>...</td>\n",
              "      <td>...</td>\n",
              "      <td>...</td>\n",
              "      <td>...</td>\n",
              "      <td>...</td>\n",
              "      <td>...</td>\n",
              "      <td>...</td>\n",
              "      <td>...</td>\n",
              "      <td>...</td>\n",
              "      <td>...</td>\n",
              "      <td>...</td>\n",
              "    </tr>\n",
              "    <tr>\n",
              "      <th>517</th>\n",
              "      <td>518</td>\n",
              "      <td>0.0</td>\n",
              "      <td>5366.8</td>\n",
              "      <td>1767.9</td>\n",
              "      <td>16460</td>\n",
              "      <td>0</td>\n",
              "      <td>0</td>\n",
              "      <td>0</td>\n",
              "      <td>1</td>\n",
              "      <td>210.0</td>\n",
              "      <td>...</td>\n",
              "      <td>0</td>\n",
              "      <td>0</td>\n",
              "      <td>0</td>\n",
              "      <td>0</td>\n",
              "      <td>0</td>\n",
              "      <td>0</td>\n",
              "      <td>0</td>\n",
              "      <td>0</td>\n",
              "      <td>0</td>\n",
              "      <td>0</td>\n",
              "    </tr>\n",
              "    <tr>\n",
              "      <th>485</th>\n",
              "      <td>486</td>\n",
              "      <td>0.0</td>\n",
              "      <td>6016.0</td>\n",
              "      <td>2208.0</td>\n",
              "      <td>9226</td>\n",
              "      <td>1</td>\n",
              "      <td>0</td>\n",
              "      <td>0</td>\n",
              "      <td>1</td>\n",
              "      <td>210.0</td>\n",
              "      <td>...</td>\n",
              "      <td>0</td>\n",
              "      <td>0</td>\n",
              "      <td>0</td>\n",
              "      <td>0</td>\n",
              "      <td>0</td>\n",
              "      <td>0</td>\n",
              "      <td>0</td>\n",
              "      <td>0</td>\n",
              "      <td>0</td>\n",
              "      <td>0</td>\n",
              "    </tr>\n",
              "    <tr>\n",
              "      <th>110</th>\n",
              "      <td>111</td>\n",
              "      <td>106.0</td>\n",
              "      <td>27812.0</td>\n",
              "      <td>3308.0</td>\n",
              "      <td>26280</td>\n",
              "      <td>0</td>\n",
              "      <td>0</td>\n",
              "      <td>0</td>\n",
              "      <td>1</td>\n",
              "      <td>217.0</td>\n",
              "      <td>...</td>\n",
              "      <td>0</td>\n",
              "      <td>0</td>\n",
              "      <td>0</td>\n",
              "      <td>0</td>\n",
              "      <td>0</td>\n",
              "      <td>0</td>\n",
              "      <td>0</td>\n",
              "      <td>0</td>\n",
              "      <td>0</td>\n",
              "      <td>0</td>\n",
              "    </tr>\n",
              "    <tr>\n",
              "      <th>383</th>\n",
              "      <td>384</td>\n",
              "      <td>-18.0</td>\n",
              "      <td>8235.0</td>\n",
              "      <td>935.0</td>\n",
              "      <td>22000</td>\n",
              "      <td>0</td>\n",
              "      <td>0</td>\n",
              "      <td>0</td>\n",
              "      <td>1</td>\n",
              "      <td>366.0</td>\n",
              "      <td>...</td>\n",
              "      <td>0</td>\n",
              "      <td>0</td>\n",
              "      <td>0</td>\n",
              "      <td>0</td>\n",
              "      <td>0</td>\n",
              "      <td>0</td>\n",
              "      <td>0</td>\n",
              "      <td>0</td>\n",
              "      <td>0</td>\n",
              "      <td>0</td>\n",
              "    </tr>\n",
              "    <tr>\n",
              "      <th>342</th>\n",
              "      <td>343</td>\n",
              "      <td>-30.0</td>\n",
              "      <td>9273.0</td>\n",
              "      <td>759.0</td>\n",
              "      <td>14500</td>\n",
              "      <td>0</td>\n",
              "      <td>0</td>\n",
              "      <td>0</td>\n",
              "      <td>1</td>\n",
              "      <td>313.0</td>\n",
              "      <td>...</td>\n",
              "      <td>0</td>\n",
              "      <td>0</td>\n",
              "      <td>0</td>\n",
              "      <td>0</td>\n",
              "      <td>1</td>\n",
              "      <td>0</td>\n",
              "      <td>0</td>\n",
              "      <td>0</td>\n",
              "      <td>0</td>\n",
              "      <td>0</td>\n",
              "    </tr>\n",
              "  </tbody>\n",
              "</table>\n",
              "<p>665 rows × 462 columns</p>\n",
              "</div>\n",
              "      <button class=\"colab-df-convert\" onclick=\"convertToInteractive('df-cb2ddccd-26e2-4f36-830f-1d788df3ef09')\"\n",
              "              title=\"Convert this dataframe to an interactive table.\"\n",
              "              style=\"display:none;\">\n",
              "        \n",
              "  <svg xmlns=\"http://www.w3.org/2000/svg\" height=\"24px\"viewBox=\"0 0 24 24\"\n",
              "       width=\"24px\">\n",
              "    <path d=\"M0 0h24v24H0V0z\" fill=\"none\"/>\n",
              "    <path d=\"M18.56 5.44l.94 2.06.94-2.06 2.06-.94-2.06-.94-.94-2.06-.94 2.06-2.06.94zm-11 1L8.5 8.5l.94-2.06 2.06-.94-2.06-.94L8.5 2.5l-.94 2.06-2.06.94zm10 10l.94 2.06.94-2.06 2.06-.94-2.06-.94-.94-2.06-.94 2.06-2.06.94z\"/><path d=\"M17.41 7.96l-1.37-1.37c-.4-.4-.92-.59-1.43-.59-.52 0-1.04.2-1.43.59L10.3 9.45l-7.72 7.72c-.78.78-.78 2.05 0 2.83L4 21.41c.39.39.9.59 1.41.59.51 0 1.02-.2 1.41-.59l7.78-7.78 2.81-2.81c.8-.78.8-2.07 0-2.86zM5.41 20L4 18.59l7.72-7.72 1.47 1.35L5.41 20z\"/>\n",
              "  </svg>\n",
              "      </button>\n",
              "      \n",
              "  <style>\n",
              "    .colab-df-container {\n",
              "      display:flex;\n",
              "      flex-wrap:wrap;\n",
              "      gap: 12px;\n",
              "    }\n",
              "\n",
              "    .colab-df-convert {\n",
              "      background-color: #E8F0FE;\n",
              "      border: none;\n",
              "      border-radius: 50%;\n",
              "      cursor: pointer;\n",
              "      display: none;\n",
              "      fill: #1967D2;\n",
              "      height: 32px;\n",
              "      padding: 0 0 0 0;\n",
              "      width: 32px;\n",
              "    }\n",
              "\n",
              "    .colab-df-convert:hover {\n",
              "      background-color: #E2EBFA;\n",
              "      box-shadow: 0px 1px 2px rgba(60, 64, 67, 0.3), 0px 1px 3px 1px rgba(60, 64, 67, 0.15);\n",
              "      fill: #174EA6;\n",
              "    }\n",
              "\n",
              "    [theme=dark] .colab-df-convert {\n",
              "      background-color: #3B4455;\n",
              "      fill: #D2E3FC;\n",
              "    }\n",
              "\n",
              "    [theme=dark] .colab-df-convert:hover {\n",
              "      background-color: #434B5C;\n",
              "      box-shadow: 0px 1px 3px 1px rgba(0, 0, 0, 0.15);\n",
              "      filter: drop-shadow(0px 1px 2px rgba(0, 0, 0, 0.3));\n",
              "      fill: #FFFFFF;\n",
              "    }\n",
              "  </style>\n",
              "\n",
              "      <script>\n",
              "        const buttonEl =\n",
              "          document.querySelector('#df-cb2ddccd-26e2-4f36-830f-1d788df3ef09 button.colab-df-convert');\n",
              "        buttonEl.style.display =\n",
              "          google.colab.kernel.accessAllowed ? 'block' : 'none';\n",
              "\n",
              "        async function convertToInteractive(key) {\n",
              "          const element = document.querySelector('#df-cb2ddccd-26e2-4f36-830f-1d788df3ef09');\n",
              "          const dataTable =\n",
              "            await google.colab.kernel.invokeFunction('convertToInteractive',\n",
              "                                                     [key], {});\n",
              "          if (!dataTable) return;\n",
              "\n",
              "          const docLinkHtml = 'Like what you see? Visit the ' +\n",
              "            '<a target=\"_blank\" href=https://colab.research.google.com/notebooks/data_table.ipynb>data table notebook</a>'\n",
              "            + ' to learn more about interactive tables.';\n",
              "          element.innerHTML = '';\n",
              "          dataTable['output_type'] = 'display_data';\n",
              "          await google.colab.output.renderOutput(dataTable, element);\n",
              "          const docLink = document.createElement('div');\n",
              "          docLink.innerHTML = docLinkHtml;\n",
              "          element.appendChild(docLink);\n",
              "        }\n",
              "      </script>\n",
              "    </div>\n",
              "  </div>\n",
              "  "
            ]
          },
          "metadata": {},
          "execution_count": 40
        }
      ]
    },
    {
      "cell_type": "code",
      "source": [
        "y_train"
      ],
      "metadata": {
        "colab": {
          "base_uri": "https://localhost:8080/"
        },
        "id": "cLhtIKuTtiye",
        "outputId": "31f56293-3f19-4923-cbae-35bbbe3856e7"
      },
      "execution_count": 41,
      "outputs": [
        {
          "output_type": "execute_result",
          "data": {
            "text/plain": [
              "957      1307.6\n",
              "405      2506.5\n",
              "134    119571.5\n",
              "674     11832.5\n",
              "991      2515.9\n",
              "         ...   \n",
              "517     33086.1\n",
              "485     18738.8\n",
              "110     16130.0\n",
              "383      9118.0\n",
              "342      6330.0\n",
              "Name: Market Cap, Length: 665, dtype: float64"
            ]
          },
          "metadata": {},
          "execution_count": 41
        }
      ]
    },
    {
      "cell_type": "markdown",
      "source": [
        "##Model building. Linear regression"
      ],
      "metadata": {
        "id": "KIX5sZEhv8xs"
      }
    },
    {
      "cell_type": "code",
      "source": [
        "model = LinearRegression()\n",
        "model.fit(X_train, y_train)"
      ],
      "metadata": {
        "colab": {
          "base_uri": "https://localhost:8080/"
        },
        "id": "OLPTuER3v8_D",
        "outputId": "636517ca-da3b-41c0-8550-b34c8d98761a"
      },
      "execution_count": 42,
      "outputs": [
        {
          "output_type": "execute_result",
          "data": {
            "text/plain": [
              "LinearRegression()"
            ]
          },
          "metadata": {},
          "execution_count": 42
        }
      ]
    },
    {
      "cell_type": "code",
      "source": [
        "y_pred = model.predict(X_test)"
      ],
      "metadata": {
        "id": "wp-vgc7XwR0c"
      },
      "execution_count": 43,
      "outputs": []
    },
    {
      "cell_type": "code",
      "source": [
        "mean_absolute_error(y_test, y_pred)"
      ],
      "metadata": {
        "colab": {
          "base_uri": "https://localhost:8080/"
        },
        "id": "ga0_cBGlwYFS",
        "outputId": "4e4c0a78-f3b2-45bf-99dc-3e207da17b10"
      },
      "execution_count": 44,
      "outputs": [
        {
          "output_type": "execute_result",
          "data": {
            "text/plain": [
              "46952.680805338656"
            ]
          },
          "metadata": {},
          "execution_count": 44
        }
      ]
    },
    {
      "cell_type": "code",
      "source": [
        "mean_squared_error(y_test, y_pred)"
      ],
      "metadata": {
        "colab": {
          "base_uri": "https://localhost:8080/"
        },
        "id": "e7ZRvjeIwa7r",
        "outputId": "7d5580bd-b950-4042-a5eb-bdddaee6b663"
      },
      "execution_count": 45,
      "outputs": [
        {
          "output_type": "execute_result",
          "data": {
            "text/plain": [
              "5975754561.7280855"
            ]
          },
          "metadata": {},
          "execution_count": 45
        }
      ]
    },
    {
      "cell_type": "code",
      "source": [
        "model.score(X_test, y_test)"
      ],
      "metadata": {
        "colab": {
          "base_uri": "https://localhost:8080/"
        },
        "id": "xv45lnM9wv8T",
        "outputId": "805a5ba1-e187-4fb5-cc4b-d6907015d24d"
      },
      "execution_count": 46,
      "outputs": [
        {
          "output_type": "execute_result",
          "data": {
            "text/plain": [
              "-1.3215245128268713"
            ]
          },
          "metadata": {},
          "execution_count": 46
        }
      ]
    },
    {
      "cell_type": "markdown",
      "source": [
        "## Preprocessing"
      ],
      "metadata": {
        "id": "Xgo18xXU44hQ"
      }
    },
    {
      "cell_type": "code",
      "source": [
        "def preprocess_inputs(df, return_X_y=False):\n",
        "  df = df.copy()\n",
        "\n",
        "  # Drop columns that give little information\n",
        "  df = df.drop(['company'], axis=1)\n",
        "  df = df.drop(['Website'], axis=1)\n",
        "  df = df.drop(['Ticker'], axis=1)\n",
        "  df = df.drop(['CEO'], axis=1)\n",
        "  df = df.drop(['rank'], axis=1)\n",
        "  df = df.drop(['rank_change'], axis=1)\n",
        "  df = df.drop(['prev_rank'], axis=1)\n",
        "  df = df.drop(['city'], axis=1)\n",
        "\n",
        "  df = df.dropna(subset=['Market Cap'])\n",
        "\n",
        "  #Fill nan values\n",
        "  df['newcomer'] = df['newcomer'].fillna(df['newcomer'].mode()[0])\n",
        "  df['profit'] = df['profit'].fillna(df['profit'].mode()[0])\n",
        "\n",
        "  df['Market Cap'] = df['Market Cap'].astype(float)\n",
        "\n",
        "  # One-hot encode binary categorical features\n",
        "  for col in ['newcomer', 'ceo_founder', 'ceo_woman', 'profitable']:\n",
        "    df[col] = np.where(df[col] == 'no', 0, 1)\n",
        "\n",
        "  \n",
        "  dummies = pd.get_dummies(df.select_dtypes('object'))\n",
        "  df = pd.concat([df, dummies], axis=1)\n",
        "  df = df.drop(df.select_dtypes('object').columns, axis=1)\n",
        "  \n",
        "  # Split into X and y\n",
        "  y = df['Market Cap']\n",
        "  X = df.drop(['Market Cap'], axis=1)\n",
        "\n",
        "  if return_X_y:\n",
        "    return X, y\n",
        "\n",
        "  # Train test split\n",
        "  X_train, X_test, y_train, y_test = train_test_split(X, y, test_size=0.3) \n",
        "  \n",
        "  return X_train, X_test, y_train, y_test"
      ],
      "metadata": {
        "id": "DrXvpDLE4_kp"
      },
      "execution_count": 96,
      "outputs": []
    },
    {
      "cell_type": "code",
      "source": [
        "X_train, X_test, y_train, y_test = preprocess_inputs(df)\n",
        "X_train"
      ],
      "metadata": {
        "colab": {
          "base_uri": "https://localhost:8080/",
          "height": 505
        },
        "id": "r1_y9s855q9Y",
        "outputId": "321e9f7b-d9e2-48df-b261-75d828e59d60"
      },
      "execution_count": 97,
      "outputs": [
        {
          "output_type": "execute_result",
          "data": {
            "text/plain": [
              "     revenue  profit  num. of employees  newcomer  ceo_founder  ceo_woman  \\\n",
              "285  11167.0  -268.0              90000         0            0          0   \n",
              "957   2141.0  -372.2               6000         0            0          0   \n",
              "985   2034.6   -24.4              12400         0            0          0   \n",
              "664   3756.5   478.6               7600         0            0          0   \n",
              "260  12112.2   402.0              40300         0            0          0   \n",
              "..       ...     ...                ...       ...          ...        ...   \n",
              "899   2371.5   146.5              10500         0            0          0   \n",
              "248  12899.7  2049.1              72000         0            0          0   \n",
              "433   7105.2   -10.6               8147         0            0          0   \n",
              "787   2972.0   340.1              13700         0            0          0   \n",
              "205  15463.6   848.0              50000         0            0          0   \n",
              "\n",
              "     profitable  sector_Aerospace & Defense  sector_Apparel  \\\n",
              "285           0                           0               0   \n",
              "957           0                           0               0   \n",
              "985           0                           0               0   \n",
              "664           1                           0               0   \n",
              "260           1                           0               0   \n",
              "..          ...                         ...             ...   \n",
              "899           1                           0               0   \n",
              "248           1                           0               0   \n",
              "433           0                           0               0   \n",
              "787           1                           0               0   \n",
              "205           1                           0               0   \n",
              "\n",
              "     sector_Business Services  ...  state_PA  state_PR  state_RI  state_SC  \\\n",
              "285                         0  ...         0         0         0         0   \n",
              "957                         0  ...         0         0         0         0   \n",
              "985                         0  ...         0         0         0         0   \n",
              "664                         0  ...         0         0         0         0   \n",
              "260                         0  ...         0         0         0         0   \n",
              "..                        ...  ...       ...       ...       ...       ...   \n",
              "899                         0  ...         0         0         0         0   \n",
              "248                         0  ...         0         0         0         0   \n",
              "433                         0  ...         0         0         0         0   \n",
              "787                         0  ...         0         0         0         0   \n",
              "205                         0  ...         0         0         0         0   \n",
              "\n",
              "     state_TN  state_TX  state_UT  state_VA  state_WA  state_WI  \n",
              "285         0         1         0         0         0         0  \n",
              "957         0         0         0         0         0         0  \n",
              "985         0         0         0         0         0         0  \n",
              "664         0         0         0         0         0         0  \n",
              "260         0         1         0         0         0         0  \n",
              "..        ...       ...       ...       ...       ...       ...  \n",
              "899         0         0         0         0         0         0  \n",
              "248         0         0         0         0         0         0  \n",
              "433         0         0         0         1         0         0  \n",
              "787         0         0         1         0         0         0  \n",
              "205         0         1         0         0         0         0  \n",
              "\n",
              "[665 rows x 73 columns]"
            ],
            "text/html": [
              "\n",
              "  <div id=\"df-b8a6fb71-0e5a-43d7-9deb-873d615589fd\">\n",
              "    <div class=\"colab-df-container\">\n",
              "      <div>\n",
              "<style scoped>\n",
              "    .dataframe tbody tr th:only-of-type {\n",
              "        vertical-align: middle;\n",
              "    }\n",
              "\n",
              "    .dataframe tbody tr th {\n",
              "        vertical-align: top;\n",
              "    }\n",
              "\n",
              "    .dataframe thead th {\n",
              "        text-align: right;\n",
              "    }\n",
              "</style>\n",
              "<table border=\"1\" class=\"dataframe\">\n",
              "  <thead>\n",
              "    <tr style=\"text-align: right;\">\n",
              "      <th></th>\n",
              "      <th>revenue</th>\n",
              "      <th>profit</th>\n",
              "      <th>num. of employees</th>\n",
              "      <th>newcomer</th>\n",
              "      <th>ceo_founder</th>\n",
              "      <th>ceo_woman</th>\n",
              "      <th>profitable</th>\n",
              "      <th>sector_Aerospace &amp; Defense</th>\n",
              "      <th>sector_Apparel</th>\n",
              "      <th>sector_Business Services</th>\n",
              "      <th>...</th>\n",
              "      <th>state_PA</th>\n",
              "      <th>state_PR</th>\n",
              "      <th>state_RI</th>\n",
              "      <th>state_SC</th>\n",
              "      <th>state_TN</th>\n",
              "      <th>state_TX</th>\n",
              "      <th>state_UT</th>\n",
              "      <th>state_VA</th>\n",
              "      <th>state_WA</th>\n",
              "      <th>state_WI</th>\n",
              "    </tr>\n",
              "  </thead>\n",
              "  <tbody>\n",
              "    <tr>\n",
              "      <th>285</th>\n",
              "      <td>11167.0</td>\n",
              "      <td>-268.0</td>\n",
              "      <td>90000</td>\n",
              "      <td>0</td>\n",
              "      <td>0</td>\n",
              "      <td>0</td>\n",
              "      <td>0</td>\n",
              "      <td>0</td>\n",
              "      <td>0</td>\n",
              "      <td>0</td>\n",
              "      <td>...</td>\n",
              "      <td>0</td>\n",
              "      <td>0</td>\n",
              "      <td>0</td>\n",
              "      <td>0</td>\n",
              "      <td>0</td>\n",
              "      <td>1</td>\n",
              "      <td>0</td>\n",
              "      <td>0</td>\n",
              "      <td>0</td>\n",
              "      <td>0</td>\n",
              "    </tr>\n",
              "    <tr>\n",
              "      <th>957</th>\n",
              "      <td>2141.0</td>\n",
              "      <td>-372.2</td>\n",
              "      <td>6000</td>\n",
              "      <td>0</td>\n",
              "      <td>0</td>\n",
              "      <td>0</td>\n",
              "      <td>0</td>\n",
              "      <td>0</td>\n",
              "      <td>0</td>\n",
              "      <td>0</td>\n",
              "      <td>...</td>\n",
              "      <td>0</td>\n",
              "      <td>0</td>\n",
              "      <td>0</td>\n",
              "      <td>0</td>\n",
              "      <td>0</td>\n",
              "      <td>0</td>\n",
              "      <td>0</td>\n",
              "      <td>0</td>\n",
              "      <td>0</td>\n",
              "      <td>0</td>\n",
              "    </tr>\n",
              "    <tr>\n",
              "      <th>985</th>\n",
              "      <td>2034.6</td>\n",
              "      <td>-24.4</td>\n",
              "      <td>12400</td>\n",
              "      <td>0</td>\n",
              "      <td>0</td>\n",
              "      <td>0</td>\n",
              "      <td>0</td>\n",
              "      <td>0</td>\n",
              "      <td>0</td>\n",
              "      <td>0</td>\n",
              "      <td>...</td>\n",
              "      <td>0</td>\n",
              "      <td>0</td>\n",
              "      <td>0</td>\n",
              "      <td>0</td>\n",
              "      <td>0</td>\n",
              "      <td>0</td>\n",
              "      <td>0</td>\n",
              "      <td>0</td>\n",
              "      <td>0</td>\n",
              "      <td>0</td>\n",
              "    </tr>\n",
              "    <tr>\n",
              "      <th>664</th>\n",
              "      <td>3756.5</td>\n",
              "      <td>478.6</td>\n",
              "      <td>7600</td>\n",
              "      <td>0</td>\n",
              "      <td>0</td>\n",
              "      <td>0</td>\n",
              "      <td>1</td>\n",
              "      <td>0</td>\n",
              "      <td>0</td>\n",
              "      <td>0</td>\n",
              "      <td>...</td>\n",
              "      <td>0</td>\n",
              "      <td>0</td>\n",
              "      <td>0</td>\n",
              "      <td>0</td>\n",
              "      <td>0</td>\n",
              "      <td>0</td>\n",
              "      <td>0</td>\n",
              "      <td>0</td>\n",
              "      <td>0</td>\n",
              "      <td>0</td>\n",
              "    </tr>\n",
              "    <tr>\n",
              "      <th>260</th>\n",
              "      <td>12112.2</td>\n",
              "      <td>402.0</td>\n",
              "      <td>40300</td>\n",
              "      <td>0</td>\n",
              "      <td>0</td>\n",
              "      <td>0</td>\n",
              "      <td>1</td>\n",
              "      <td>0</td>\n",
              "      <td>0</td>\n",
              "      <td>0</td>\n",
              "      <td>...</td>\n",
              "      <td>0</td>\n",
              "      <td>0</td>\n",
              "      <td>0</td>\n",
              "      <td>0</td>\n",
              "      <td>0</td>\n",
              "      <td>1</td>\n",
              "      <td>0</td>\n",
              "      <td>0</td>\n",
              "      <td>0</td>\n",
              "      <td>0</td>\n",
              "    </tr>\n",
              "    <tr>\n",
              "      <th>...</th>\n",
              "      <td>...</td>\n",
              "      <td>...</td>\n",
              "      <td>...</td>\n",
              "      <td>...</td>\n",
              "      <td>...</td>\n",
              "      <td>...</td>\n",
              "      <td>...</td>\n",
              "      <td>...</td>\n",
              "      <td>...</td>\n",
              "      <td>...</td>\n",
              "      <td>...</td>\n",
              "      <td>...</td>\n",
              "      <td>...</td>\n",
              "      <td>...</td>\n",
              "      <td>...</td>\n",
              "      <td>...</td>\n",
              "      <td>...</td>\n",
              "      <td>...</td>\n",
              "      <td>...</td>\n",
              "      <td>...</td>\n",
              "      <td>...</td>\n",
              "    </tr>\n",
              "    <tr>\n",
              "      <th>899</th>\n",
              "      <td>2371.5</td>\n",
              "      <td>146.5</td>\n",
              "      <td>10500</td>\n",
              "      <td>0</td>\n",
              "      <td>0</td>\n",
              "      <td>0</td>\n",
              "      <td>1</td>\n",
              "      <td>0</td>\n",
              "      <td>0</td>\n",
              "      <td>0</td>\n",
              "      <td>...</td>\n",
              "      <td>0</td>\n",
              "      <td>0</td>\n",
              "      <td>0</td>\n",
              "      <td>0</td>\n",
              "      <td>0</td>\n",
              "      <td>0</td>\n",
              "      <td>0</td>\n",
              "      <td>0</td>\n",
              "      <td>0</td>\n",
              "      <td>0</td>\n",
              "    </tr>\n",
              "    <tr>\n",
              "      <th>248</th>\n",
              "      <td>12899.7</td>\n",
              "      <td>2049.1</td>\n",
              "      <td>72000</td>\n",
              "      <td>0</td>\n",
              "      <td>0</td>\n",
              "      <td>0</td>\n",
              "      <td>1</td>\n",
              "      <td>0</td>\n",
              "      <td>0</td>\n",
              "      <td>0</td>\n",
              "      <td>...</td>\n",
              "      <td>0</td>\n",
              "      <td>0</td>\n",
              "      <td>0</td>\n",
              "      <td>0</td>\n",
              "      <td>0</td>\n",
              "      <td>0</td>\n",
              "      <td>0</td>\n",
              "      <td>0</td>\n",
              "      <td>0</td>\n",
              "      <td>0</td>\n",
              "    </tr>\n",
              "    <tr>\n",
              "      <th>433</th>\n",
              "      <td>7105.2</td>\n",
              "      <td>-10.6</td>\n",
              "      <td>8147</td>\n",
              "      <td>0</td>\n",
              "      <td>0</td>\n",
              "      <td>0</td>\n",
              "      <td>0</td>\n",
              "      <td>0</td>\n",
              "      <td>0</td>\n",
              "      <td>0</td>\n",
              "      <td>...</td>\n",
              "      <td>0</td>\n",
              "      <td>0</td>\n",
              "      <td>0</td>\n",
              "      <td>0</td>\n",
              "      <td>0</td>\n",
              "      <td>0</td>\n",
              "      <td>0</td>\n",
              "      <td>1</td>\n",
              "      <td>0</td>\n",
              "      <td>0</td>\n",
              "    </tr>\n",
              "    <tr>\n",
              "      <th>787</th>\n",
              "      <td>2972.0</td>\n",
              "      <td>340.1</td>\n",
              "      <td>13700</td>\n",
              "      <td>0</td>\n",
              "      <td>0</td>\n",
              "      <td>0</td>\n",
              "      <td>1</td>\n",
              "      <td>0</td>\n",
              "      <td>0</td>\n",
              "      <td>0</td>\n",
              "      <td>...</td>\n",
              "      <td>0</td>\n",
              "      <td>0</td>\n",
              "      <td>0</td>\n",
              "      <td>0</td>\n",
              "      <td>0</td>\n",
              "      <td>0</td>\n",
              "      <td>1</td>\n",
              "      <td>0</td>\n",
              "      <td>0</td>\n",
              "      <td>0</td>\n",
              "    </tr>\n",
              "    <tr>\n",
              "      <th>205</th>\n",
              "      <td>15463.6</td>\n",
              "      <td>848.0</td>\n",
              "      <td>50000</td>\n",
              "      <td>0</td>\n",
              "      <td>0</td>\n",
              "      <td>0</td>\n",
              "      <td>1</td>\n",
              "      <td>0</td>\n",
              "      <td>0</td>\n",
              "      <td>0</td>\n",
              "      <td>...</td>\n",
              "      <td>0</td>\n",
              "      <td>0</td>\n",
              "      <td>0</td>\n",
              "      <td>0</td>\n",
              "      <td>0</td>\n",
              "      <td>1</td>\n",
              "      <td>0</td>\n",
              "      <td>0</td>\n",
              "      <td>0</td>\n",
              "      <td>0</td>\n",
              "    </tr>\n",
              "  </tbody>\n",
              "</table>\n",
              "<p>665 rows × 73 columns</p>\n",
              "</div>\n",
              "      <button class=\"colab-df-convert\" onclick=\"convertToInteractive('df-b8a6fb71-0e5a-43d7-9deb-873d615589fd')\"\n",
              "              title=\"Convert this dataframe to an interactive table.\"\n",
              "              style=\"display:none;\">\n",
              "        \n",
              "  <svg xmlns=\"http://www.w3.org/2000/svg\" height=\"24px\"viewBox=\"0 0 24 24\"\n",
              "       width=\"24px\">\n",
              "    <path d=\"M0 0h24v24H0V0z\" fill=\"none\"/>\n",
              "    <path d=\"M18.56 5.44l.94 2.06.94-2.06 2.06-.94-2.06-.94-.94-2.06-.94 2.06-2.06.94zm-11 1L8.5 8.5l.94-2.06 2.06-.94-2.06-.94L8.5 2.5l-.94 2.06-2.06.94zm10 10l.94 2.06.94-2.06 2.06-.94-2.06-.94-.94-2.06-.94 2.06-2.06.94z\"/><path d=\"M17.41 7.96l-1.37-1.37c-.4-.4-.92-.59-1.43-.59-.52 0-1.04.2-1.43.59L10.3 9.45l-7.72 7.72c-.78.78-.78 2.05 0 2.83L4 21.41c.39.39.9.59 1.41.59.51 0 1.02-.2 1.41-.59l7.78-7.78 2.81-2.81c.8-.78.8-2.07 0-2.86zM5.41 20L4 18.59l7.72-7.72 1.47 1.35L5.41 20z\"/>\n",
              "  </svg>\n",
              "      </button>\n",
              "      \n",
              "  <style>\n",
              "    .colab-df-container {\n",
              "      display:flex;\n",
              "      flex-wrap:wrap;\n",
              "      gap: 12px;\n",
              "    }\n",
              "\n",
              "    .colab-df-convert {\n",
              "      background-color: #E8F0FE;\n",
              "      border: none;\n",
              "      border-radius: 50%;\n",
              "      cursor: pointer;\n",
              "      display: none;\n",
              "      fill: #1967D2;\n",
              "      height: 32px;\n",
              "      padding: 0 0 0 0;\n",
              "      width: 32px;\n",
              "    }\n",
              "\n",
              "    .colab-df-convert:hover {\n",
              "      background-color: #E2EBFA;\n",
              "      box-shadow: 0px 1px 2px rgba(60, 64, 67, 0.3), 0px 1px 3px 1px rgba(60, 64, 67, 0.15);\n",
              "      fill: #174EA6;\n",
              "    }\n",
              "\n",
              "    [theme=dark] .colab-df-convert {\n",
              "      background-color: #3B4455;\n",
              "      fill: #D2E3FC;\n",
              "    }\n",
              "\n",
              "    [theme=dark] .colab-df-convert:hover {\n",
              "      background-color: #434B5C;\n",
              "      box-shadow: 0px 1px 3px 1px rgba(0, 0, 0, 0.15);\n",
              "      filter: drop-shadow(0px 1px 2px rgba(0, 0, 0, 0.3));\n",
              "      fill: #FFFFFF;\n",
              "    }\n",
              "  </style>\n",
              "\n",
              "      <script>\n",
              "        const buttonEl =\n",
              "          document.querySelector('#df-b8a6fb71-0e5a-43d7-9deb-873d615589fd button.colab-df-convert');\n",
              "        buttonEl.style.display =\n",
              "          google.colab.kernel.accessAllowed ? 'block' : 'none';\n",
              "\n",
              "        async function convertToInteractive(key) {\n",
              "          const element = document.querySelector('#df-b8a6fb71-0e5a-43d7-9deb-873d615589fd');\n",
              "          const dataTable =\n",
              "            await google.colab.kernel.invokeFunction('convertToInteractive',\n",
              "                                                     [key], {});\n",
              "          if (!dataTable) return;\n",
              "\n",
              "          const docLinkHtml = 'Like what you see? Visit the ' +\n",
              "            '<a target=\"_blank\" href=https://colab.research.google.com/notebooks/data_table.ipynb>data table notebook</a>'\n",
              "            + ' to learn more about interactive tables.';\n",
              "          element.innerHTML = '';\n",
              "          dataTable['output_type'] = 'display_data';\n",
              "          await google.colab.output.renderOutput(dataTable, element);\n",
              "          const docLink = document.createElement('div');\n",
              "          docLink.innerHTML = docLinkHtml;\n",
              "          element.appendChild(docLink);\n",
              "        }\n",
              "      </script>\n",
              "    </div>\n",
              "  </div>\n",
              "  "
            ]
          },
          "metadata": {},
          "execution_count": 97
        }
      ]
    },
    {
      "cell_type": "code",
      "source": [
        "y_train"
      ],
      "metadata": {
        "colab": {
          "base_uri": "https://localhost:8080/"
        },
        "id": "VismBkBA5t4v",
        "outputId": "a794e1b9-f527-426a-9af0-20cc89a732fb"
      },
      "execution_count": 98,
      "outputs": [
        {
          "output_type": "execute_result",
          "data": {
            "text/plain": [
              "285      115.6\n",
              "957     1307.6\n",
              "985       65.7\n",
              "664     8341.9\n",
              "260    11008.0\n",
              "        ...   \n",
              "899     1673.9\n",
              "248    15366.0\n",
              "433     1138.0\n",
              "787     1316.2\n",
              "205    14557.0\n",
              "Name: Market Cap, Length: 665, dtype: float64"
            ]
          },
          "metadata": {},
          "execution_count": 98
        }
      ]
    },
    {
      "cell_type": "code",
      "source": [
        "model = LinearRegression()\n",
        "model.fit(X_train, y_train)"
      ],
      "metadata": {
        "colab": {
          "base_uri": "https://localhost:8080/"
        },
        "id": "qZWSX-Nl5v9H",
        "outputId": "79863acd-6258-424e-8acd-067f2998a7be"
      },
      "execution_count": 99,
      "outputs": [
        {
          "output_type": "execute_result",
          "data": {
            "text/plain": [
              "LinearRegression()"
            ]
          },
          "metadata": {},
          "execution_count": 99
        }
      ]
    },
    {
      "cell_type": "code",
      "source": [
        "y_pred = model.predict(X_test)"
      ],
      "metadata": {
        "id": "IZeBarxk5xuW"
      },
      "execution_count": 100,
      "outputs": []
    },
    {
      "cell_type": "code",
      "source": [
        "mean_absolute_error(y_test, y_pred)"
      ],
      "metadata": {
        "colab": {
          "base_uri": "https://localhost:8080/"
        },
        "id": "tLm3nti250Jn",
        "outputId": "a9fb5541-e3f4-4983-a95e-a0c73d91e4f9"
      },
      "execution_count": 101,
      "outputs": [
        {
          "output_type": "execute_result",
          "data": {
            "text/plain": [
              "45341.10152728385"
            ]
          },
          "metadata": {},
          "execution_count": 101
        }
      ]
    },
    {
      "cell_type": "code",
      "source": [
        "mean_squared_error(y_test, y_pred)"
      ],
      "metadata": {
        "colab": {
          "base_uri": "https://localhost:8080/"
        },
        "id": "c5PDEKwd52AP",
        "outputId": "93db3c07-0e4c-4c70-ef48-9f283a4f9d0a"
      },
      "execution_count": 102,
      "outputs": [
        {
          "output_type": "execute_result",
          "data": {
            "text/plain": [
              "19899279512.69402"
            ]
          },
          "metadata": {},
          "execution_count": 102
        }
      ]
    },
    {
      "cell_type": "code",
      "source": [
        "model.score(X_test, y_test)"
      ],
      "metadata": {
        "colab": {
          "base_uri": "https://localhost:8080/"
        },
        "id": "xRQVU8TD56OC",
        "outputId": "a68c496f-dc5d-45dd-b075-86cd8274fb15"
      },
      "execution_count": 103,
      "outputs": [
        {
          "output_type": "execute_result",
          "data": {
            "text/plain": [
              "0.31981640332094663"
            ]
          },
          "metadata": {},
          "execution_count": 103
        }
      ]
    }
  ]
}